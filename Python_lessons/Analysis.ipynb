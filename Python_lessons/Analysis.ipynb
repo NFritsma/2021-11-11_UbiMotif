{
 "cells": [
  {
   "cell_type": "code",
   "execution_count": null,
   "id": "b5b764b9-822f-40b2-9de3-faea740bb1f9",
   "metadata": {},
   "outputs": [],
   "source": [
    "1-1"
   ]
  },
  {
   "cell_type": "code",
   "execution_count": null,
   "id": "bdbdb48c-96a4-490b-bd04-c8ca217bbdf2",
   "metadata": {},
   "outputs": [],
   "source": [
    "1+1"
   ]
  },
  {
   "cell_type": "code",
   "execution_count": null,
   "id": "e15a8ff3-02d6-4259-8382-2745b29d0cf0",
   "metadata": {},
   "outputs": [],
   "source": [
    "a=1+1"
   ]
  },
  {
   "cell_type": "code",
   "execution_count": null,
   "id": "2dc5025d-5518-45e7-996e-25767bd4bff9",
   "metadata": {},
   "outputs": [],
   "source": [
    "a"
   ]
  },
  {
   "cell_type": "markdown",
   "id": "458b4398-2714-4207-859c-5a3b9d07ad21",
   "metadata": {},
   "source": [
    "## This is a Title"
   ]
  },
  {
   "cell_type": "markdown",
   "id": "7a2bfd07-9ffa-4756-8c0e-ef0a0972550f",
   "metadata": {},
   "source": [
    "This is a subtitle"
   ]
  },
  {
   "cell_type": "code",
   "execution_count": null,
   "id": "6b3d003b-9b5d-4be7-aa34-4efa47ad19d1",
   "metadata": {},
   "outputs": [],
   "source": [
    "# this is a text"
   ]
  },
  {
   "cell_type": "code",
   "execution_count": 2,
   "id": "9bca4fad-a425-4c83-b0f3-0800195b959a",
   "metadata": {},
   "outputs": [],
   "source": [
    "Weight_kg = 60"
   ]
  },
  {
   "cell_type": "code",
   "execution_count": null,
   "id": "a508eb90-6a31-4306-8cd1-c7d639e4034c",
   "metadata": {},
   "outputs": [],
   "source": [
    "Weight_kg"
   ]
  },
  {
   "cell_type": "code",
   "execution_count": null,
   "id": "9cd608bd-121d-49b5-ba3e-210bdd532358",
   "metadata": {},
   "outputs": [],
   "source": []
  },
  {
   "cell_type": "code",
   "execution_count": 1,
   "id": "a36d062c-e17c-433f-835c-81f9382f8ac5",
   "metadata": {},
   "outputs": [
    {
     "data": {
      "text/plain": [
       "<function print>"
      ]
     },
     "execution_count": 1,
     "metadata": {},
     "output_type": "execute_result"
    }
   ],
   "source": [
    "print"
   ]
  },
  {
   "cell_type": "code",
   "execution_count": 3,
   "id": "5092ae4d-2f26-45d1-8550-b71e460ac7fc",
   "metadata": {},
   "outputs": [
    {
     "name": "stdout",
     "output_type": "stream",
     "text": [
      "60\n"
     ]
    }
   ],
   "source": [
    "print (Weight_kg)"
   ]
  },
  {
   "cell_type": "code",
   "execution_count": 29,
   "id": "6475ca0f-cb20-49ae-bad4-e7d6bd419682",
   "metadata": {},
   "outputs": [],
   "source": [
    "Weight_kg2 = 60.0"
   ]
  },
  {
   "cell_type": "code",
   "execution_count": 7,
   "id": "0502da28-9679-4cda-bd15-3eb01d463bb4",
   "metadata": {},
   "outputs": [
    {
     "name": "stdout",
     "output_type": "stream",
     "text": [
      "60.0\n"
     ]
    }
   ],
   "source": [
    "print (Weight_kg2)"
   ]
  },
  {
   "cell_type": "code",
   "execution_count": 9,
   "id": "1b0e35a0-9026-4973-ba46-9d30592ddb56",
   "metadata": {},
   "outputs": [
    {
     "data": {
      "text/plain": [
       "120"
      ]
     },
     "execution_count": 9,
     "metadata": {},
     "output_type": "execute_result"
    }
   ],
   "source": [
    "Weight_kg * 2"
   ]
  },
  {
   "cell_type": "code",
   "execution_count": 10,
   "id": "deb87ddb-ffb4-4f54-9acb-6293f0f905d7",
   "metadata": {},
   "outputs": [
    {
     "data": {
      "text/plain": [
       "120.0"
      ]
     },
     "execution_count": 10,
     "metadata": {},
     "output_type": "execute_result"
    }
   ],
   "source": [
    "Weight_kg2 * 2"
   ]
  },
  {
   "cell_type": "code",
   "execution_count": 19,
   "id": "79e7dc96-93e3-4e11-9e9d-3635ed262603",
   "metadata": {},
   "outputs": [],
   "source": [
    "Weight_txt = \"my weight is:\""
   ]
  },
  {
   "cell_type": "code",
   "execution_count": 14,
   "id": "54efe7f5-10cc-4331-bc24-d9cf347b576d",
   "metadata": {},
   "outputs": [
    {
     "name": "stdout",
     "output_type": "stream",
     "text": [
      "my weight is:\n"
     ]
    }
   ],
   "source": [
    "print (Weight_txt)"
   ]
  },
  {
   "cell_type": "code",
   "execution_count": 16,
   "id": "47bb8152-1bd8-4946-be05-9b47769a4578",
   "metadata": {},
   "outputs": [
    {
     "name": "stdout",
     "output_type": "stream",
     "text": [
      "my weight is: 60.0\n"
     ]
    }
   ],
   "source": [
    "print (Weight_txt, Weight_kg2)"
   ]
  },
  {
   "cell_type": "code",
   "execution_count": 17,
   "id": "e37f8050-2974-4ca8-81be-1de07fea0a7f",
   "metadata": {},
   "outputs": [],
   "source": [
    "banana = \"this is my other string\""
   ]
  },
  {
   "cell_type": "code",
   "execution_count": 21,
   "id": "2433849a-3960-4ae5-9d84-a5107ef97f6a",
   "metadata": {},
   "outputs": [
    {
     "data": {
      "text/plain": [
       "'my weight is:this is my other string'"
      ]
     },
     "execution_count": 21,
     "metadata": {},
     "output_type": "execute_result"
    }
   ],
   "source": [
    "Weight_txt + banana"
   ]
  },
  {
   "cell_type": "code",
   "execution_count": 22,
   "id": "c285d84d-6b10-4308-9b75-3a857bc87e64",
   "metadata": {},
   "outputs": [
    {
     "data": {
      "text/plain": [
       "120.0"
      ]
     },
     "execution_count": 22,
     "metadata": {},
     "output_type": "execute_result"
    }
   ],
   "source": [
    "Weight_kg + Weight_kg2"
   ]
  },
  {
   "cell_type": "code",
   "execution_count": 24,
   "id": "57f71d96-7b8d-4523-b4c9-6f06fbac52ed",
   "metadata": {},
   "outputs": [
    {
     "name": "stdout",
     "output_type": "stream",
     "text": [
      "H\n"
     ]
    }
   ],
   "source": [
    "Message = 'Hello'\n",
    "print(Message[0])"
   ]
  },
  {
   "cell_type": "code",
   "execution_count": 25,
   "id": "fb26638c-e3ef-4b43-9254-e558d50d9adf",
   "metadata": {},
   "outputs": [],
   "source": [
    "# Command\n",
    "x=1.0           x = 1.0  y= error swap = error\n",
    "y=3.0           x = 1.0  y=3.0    swap = error\n",
    "swap = x        x = 1.0  y=3.0    swap = 1.0\n",
    "x=y             x = 3.0  y=3.0    swap = 1.0\n",
    "y=swap          x = 3.0  y=1.0    swap = 1.0"
   ]
  },
  {
   "cell_type": "code",
   "execution_count": 35,
   "id": "2291c0ea-2d0f-4863-97b2-c2fd3dbfc410",
   "metadata": {},
   "outputs": [
    {
     "data": {
      "text/plain": [
       "int"
      ]
     },
     "execution_count": 35,
     "metadata": {},
     "output_type": "execute_result"
    }
   ],
   "source": [
    "type(Weight_kg)"
   ]
  },
  {
   "cell_type": "code",
   "execution_count": 36,
   "id": "e63c8e36-5c4e-466d-90d3-d045dd46c584",
   "metadata": {},
   "outputs": [
    {
     "data": {
      "text/plain": [
       "float"
      ]
     },
     "execution_count": 36,
     "metadata": {},
     "output_type": "execute_result"
    }
   ],
   "source": [
    "type(Weight_kg2)"
   ]
  },
  {
   "cell_type": "code",
   "execution_count": 38,
   "id": "a0837f3d-8eb5-4643-8830-5f16d52b7de0",
   "metadata": {},
   "outputs": [
    {
     "name": "stdout",
     "output_type": "stream",
     "text": [
      "2 5\n"
     ]
    }
   ],
   "source": [
    "First = 1\n",
    "Second = 5*First\n",
    "First = 2\n",
    "print(First, Second)"
   ]
  },
  {
   "cell_type": "code",
   "execution_count": 54,
   "id": "438669f7-8cb3-471b-98c8-d3f76ac5b09a",
   "metadata": {},
   "outputs": [
    {
     "name": "stdout",
     "output_type": "stream",
     "text": [
      "a\n"
     ]
    }
   ],
   "source": [
    "name = 'Niels Fritsma'\n",
    "print(name [len(name)-1])"
   ]
  },
  {
   "cell_type": "code",
   "execution_count": 55,
   "id": "bf72f1d9-08cf-41ac-8eb5-a4afeb8b96ea",
   "metadata": {},
   "outputs": [
    {
     "name": "stdout",
     "output_type": "stream",
     "text": [
      "e\n"
     ]
    }
   ],
   "source": [
    "name2 = 'strawberry cheesecake'\n",
    "print(name2 [-1])"
   ]
  },
  {
   "cell_type": "code",
   "execution_count": 57,
   "id": "78f2e27b-cd4e-4e6d-93ec-763408d5bcfc",
   "metadata": {},
   "outputs": [],
   "source": [
    "import math"
   ]
  },
  {
   "cell_type": "code",
   "execution_count": 58,
   "id": "f43ba40c-8f91-4b88-8a0c-ee54fd33dc38",
   "metadata": {},
   "outputs": [
    {
     "name": "stdout",
     "output_type": "stream",
     "text": [
      "3.141592653589793\n"
     ]
    }
   ],
   "source": [
    "print (math.pi)"
   ]
  },
  {
   "cell_type": "code",
   "execution_count": 59,
   "id": "2210e878-3138-4c9c-884f-dd6263b27368",
   "metadata": {},
   "outputs": [
    {
     "data": {
      "text/plain": [
       "-1.0"
      ]
     },
     "execution_count": 59,
     "metadata": {},
     "output_type": "execute_result"
    }
   ],
   "source": [
    "math.cos (math.pi)"
   ]
  },
  {
   "cell_type": "code",
   "execution_count": 60,
   "id": "8f6aac5e-6a8a-4479-b967-c2cfb9a22ace",
   "metadata": {},
   "outputs": [
    {
     "name": "stdout",
     "output_type": "stream",
     "text": [
      "Help on built-in module math:\n",
      "\n",
      "NAME\n",
      "    math\n",
      "\n",
      "DESCRIPTION\n",
      "    This module provides access to the mathematical functions\n",
      "    defined by the C standard.\n",
      "\n",
      "FUNCTIONS\n",
      "    acos(x, /)\n",
      "        Return the arc cosine (measured in radians) of x.\n",
      "    \n",
      "    acosh(x, /)\n",
      "        Return the inverse hyperbolic cosine of x.\n",
      "    \n",
      "    asin(x, /)\n",
      "        Return the arc sine (measured in radians) of x.\n",
      "    \n",
      "    asinh(x, /)\n",
      "        Return the inverse hyperbolic sine of x.\n",
      "    \n",
      "    atan(x, /)\n",
      "        Return the arc tangent (measured in radians) of x.\n",
      "    \n",
      "    atan2(y, x, /)\n",
      "        Return the arc tangent (measured in radians) of y/x.\n",
      "        \n",
      "        Unlike atan(y/x), the signs of both x and y are considered.\n",
      "    \n",
      "    atanh(x, /)\n",
      "        Return the inverse hyperbolic tangent of x.\n",
      "    \n",
      "    ceil(x, /)\n",
      "        Return the ceiling of x as an Integral.\n",
      "        \n",
      "        This is the smallest integer >= x.\n",
      "    \n",
      "    comb(n, k, /)\n",
      "        Number of ways to choose k items from n items without repetition and without order.\n",
      "        \n",
      "        Evaluates to n! / (k! * (n - k)!) when k <= n and evaluates\n",
      "        to zero when k > n.\n",
      "        \n",
      "        Also called the binomial coefficient because it is equivalent\n",
      "        to the coefficient of k-th term in polynomial expansion of the\n",
      "        expression (1 + x)**n.\n",
      "        \n",
      "        Raises TypeError if either of the arguments are not integers.\n",
      "        Raises ValueError if either of the arguments are negative.\n",
      "    \n",
      "    copysign(x, y, /)\n",
      "        Return a float with the magnitude (absolute value) of x but the sign of y.\n",
      "        \n",
      "        On platforms that support signed zeros, copysign(1.0, -0.0)\n",
      "        returns -1.0.\n",
      "    \n",
      "    cos(x, /)\n",
      "        Return the cosine of x (measured in radians).\n",
      "    \n",
      "    cosh(x, /)\n",
      "        Return the hyperbolic cosine of x.\n",
      "    \n",
      "    degrees(x, /)\n",
      "        Convert angle x from radians to degrees.\n",
      "    \n",
      "    dist(p, q, /)\n",
      "        Return the Euclidean distance between two points p and q.\n",
      "        \n",
      "        The points should be specified as sequences (or iterables) of\n",
      "        coordinates.  Both inputs must have the same dimension.\n",
      "        \n",
      "        Roughly equivalent to:\n",
      "            sqrt(sum((px - qx) ** 2.0 for px, qx in zip(p, q)))\n",
      "    \n",
      "    erf(x, /)\n",
      "        Error function at x.\n",
      "    \n",
      "    erfc(x, /)\n",
      "        Complementary error function at x.\n",
      "    \n",
      "    exp(x, /)\n",
      "        Return e raised to the power of x.\n",
      "    \n",
      "    expm1(x, /)\n",
      "        Return exp(x)-1.\n",
      "        \n",
      "        This function avoids the loss of precision involved in the direct evaluation of exp(x)-1 for small x.\n",
      "    \n",
      "    fabs(x, /)\n",
      "        Return the absolute value of the float x.\n",
      "    \n",
      "    factorial(x, /)\n",
      "        Find x!.\n",
      "        \n",
      "        Raise a ValueError if x is negative or non-integral.\n",
      "    \n",
      "    floor(x, /)\n",
      "        Return the floor of x as an Integral.\n",
      "        \n",
      "        This is the largest integer <= x.\n",
      "    \n",
      "    fmod(x, y, /)\n",
      "        Return fmod(x, y), according to platform C.\n",
      "        \n",
      "        x % y may differ.\n",
      "    \n",
      "    frexp(x, /)\n",
      "        Return the mantissa and exponent of x, as pair (m, e).\n",
      "        \n",
      "        m is a float and e is an int, such that x = m * 2.**e.\n",
      "        If x is 0, m and e are both 0.  Else 0.5 <= abs(m) < 1.0.\n",
      "    \n",
      "    fsum(seq, /)\n",
      "        Return an accurate floating point sum of values in the iterable seq.\n",
      "        \n",
      "        Assumes IEEE-754 floating point arithmetic.\n",
      "    \n",
      "    gamma(x, /)\n",
      "        Gamma function at x.\n",
      "    \n",
      "    gcd(x, y, /)\n",
      "        greatest common divisor of x and y\n",
      "    \n",
      "    hypot(...)\n",
      "        hypot(*coordinates) -> value\n",
      "        \n",
      "        Multidimensional Euclidean distance from the origin to a point.\n",
      "        \n",
      "        Roughly equivalent to:\n",
      "            sqrt(sum(x**2 for x in coordinates))\n",
      "        \n",
      "        For a two dimensional point (x, y), gives the hypotenuse\n",
      "        using the Pythagorean theorem:  sqrt(x*x + y*y).\n",
      "        \n",
      "        For example, the hypotenuse of a 3/4/5 right triangle is:\n",
      "        \n",
      "            >>> hypot(3.0, 4.0)\n",
      "            5.0\n",
      "    \n",
      "    isclose(a, b, *, rel_tol=1e-09, abs_tol=0.0)\n",
      "        Determine whether two floating point numbers are close in value.\n",
      "        \n",
      "          rel_tol\n",
      "            maximum difference for being considered \"close\", relative to the\n",
      "            magnitude of the input values\n",
      "          abs_tol\n",
      "            maximum difference for being considered \"close\", regardless of the\n",
      "            magnitude of the input values\n",
      "        \n",
      "        Return True if a is close in value to b, and False otherwise.\n",
      "        \n",
      "        For the values to be considered close, the difference between them\n",
      "        must be smaller than at least one of the tolerances.\n",
      "        \n",
      "        -inf, inf and NaN behave similarly to the IEEE 754 Standard.  That\n",
      "        is, NaN is not close to anything, even itself.  inf and -inf are\n",
      "        only close to themselves.\n",
      "    \n",
      "    isfinite(x, /)\n",
      "        Return True if x is neither an infinity nor a NaN, and False otherwise.\n",
      "    \n",
      "    isinf(x, /)\n",
      "        Return True if x is a positive or negative infinity, and False otherwise.\n",
      "    \n",
      "    isnan(x, /)\n",
      "        Return True if x is a NaN (not a number), and False otherwise.\n",
      "    \n",
      "    isqrt(n, /)\n",
      "        Return the integer part of the square root of the input.\n",
      "    \n",
      "    ldexp(x, i, /)\n",
      "        Return x * (2**i).\n",
      "        \n",
      "        This is essentially the inverse of frexp().\n",
      "    \n",
      "    lgamma(x, /)\n",
      "        Natural logarithm of absolute value of Gamma function at x.\n",
      "    \n",
      "    log(...)\n",
      "        log(x, [base=math.e])\n",
      "        Return the logarithm of x to the given base.\n",
      "        \n",
      "        If the base not specified, returns the natural logarithm (base e) of x.\n",
      "    \n",
      "    log10(x, /)\n",
      "        Return the base 10 logarithm of x.\n",
      "    \n",
      "    log1p(x, /)\n",
      "        Return the natural logarithm of 1+x (base e).\n",
      "        \n",
      "        The result is computed in a way which is accurate for x near zero.\n",
      "    \n",
      "    log2(x, /)\n",
      "        Return the base 2 logarithm of x.\n",
      "    \n",
      "    modf(x, /)\n",
      "        Return the fractional and integer parts of x.\n",
      "        \n",
      "        Both results carry the sign of x and are floats.\n",
      "    \n",
      "    perm(n, k=None, /)\n",
      "        Number of ways to choose k items from n items without repetition and with order.\n",
      "        \n",
      "        Evaluates to n! / (n - k)! when k <= n and evaluates\n",
      "        to zero when k > n.\n",
      "        \n",
      "        If k is not specified or is None, then k defaults to n\n",
      "        and the function returns n!.\n",
      "        \n",
      "        Raises TypeError if either of the arguments are not integers.\n",
      "        Raises ValueError if either of the arguments are negative.\n",
      "    \n",
      "    pow(x, y, /)\n",
      "        Return x**y (x to the power of y).\n",
      "    \n",
      "    prod(iterable, /, *, start=1)\n",
      "        Calculate the product of all the elements in the input iterable.\n",
      "        \n",
      "        The default start value for the product is 1.\n",
      "        \n",
      "        When the iterable is empty, return the start value.  This function is\n",
      "        intended specifically for use with numeric values and may reject\n",
      "        non-numeric types.\n",
      "    \n",
      "    radians(x, /)\n",
      "        Convert angle x from degrees to radians.\n",
      "    \n",
      "    remainder(x, y, /)\n",
      "        Difference between x and the closest integer multiple of y.\n",
      "        \n",
      "        Return x - n*y where n*y is the closest integer multiple of y.\n",
      "        In the case where x is exactly halfway between two multiples of\n",
      "        y, the nearest even value of n is used. The result is always exact.\n",
      "    \n",
      "    sin(x, /)\n",
      "        Return the sine of x (measured in radians).\n",
      "    \n",
      "    sinh(x, /)\n",
      "        Return the hyperbolic sine of x.\n",
      "    \n",
      "    sqrt(x, /)\n",
      "        Return the square root of x.\n",
      "    \n",
      "    tan(x, /)\n",
      "        Return the tangent of x (measured in radians).\n",
      "    \n",
      "    tanh(x, /)\n",
      "        Return the hyperbolic tangent of x.\n",
      "    \n",
      "    trunc(x, /)\n",
      "        Truncates the Real x to the nearest Integral toward 0.\n",
      "        \n",
      "        Uses the __trunc__ magic method.\n",
      "\n",
      "DATA\n",
      "    e = 2.718281828459045\n",
      "    inf = inf\n",
      "    nan = nan\n",
      "    pi = 3.141592653589793\n",
      "    tau = 6.283185307179586\n",
      "\n",
      "FILE\n",
      "    (built-in)\n",
      "\n",
      "\n"
     ]
    }
   ],
   "source": [
    "help (math)"
   ]
  },
  {
   "cell_type": "code",
   "execution_count": 61,
   "id": "4e3e88c4-40b9-4f00-ba79-4eb7d218ca66",
   "metadata": {},
   "outputs": [
    {
     "data": {
      "text/plain": [
       "1.4142135623730951"
      ]
     },
     "execution_count": 61,
     "metadata": {},
     "output_type": "execute_result"
    }
   ],
   "source": [
    "2**0.5"
   ]
  },
  {
   "cell_type": "code",
   "execution_count": 62,
   "id": "0111b3a7-f784-4160-8600-b71bbb18ee37",
   "metadata": {},
   "outputs": [
    {
     "data": {
      "text/plain": [
       "1.4142135623730951"
      ]
     },
     "execution_count": 62,
     "metadata": {},
     "output_type": "execute_result"
    }
   ],
   "source": [
    "pow(2, 0.5)"
   ]
  },
  {
   "cell_type": "code",
   "execution_count": 63,
   "id": "3f54e01e-76c8-40ce-abfa-7869818e3de4",
   "metadata": {},
   "outputs": [],
   "source": [
    "bases = 'ACTTGCTTGAC'"
   ]
  },
  {
   "cell_type": "code",
   "execution_count": 71,
   "id": "36de34ea-60c6-4582-8a58-87613ce4baab",
   "metadata": {},
   "outputs": [
    {
     "data": {
      "text/plain": [
       "'T'"
      ]
     },
     "execution_count": 71,
     "metadata": {},
     "output_type": "execute_result"
    }
   ],
   "source": [
    "import random\n",
    "random.choice (bases)"
   ]
  },
  {
   "cell_type": "code",
   "execution_count": 72,
   "id": "59ee4492-4563-4593-a20b-a46879fa3e10",
   "metadata": {},
   "outputs": [
    {
     "name": "stdout",
     "output_type": "stream",
     "text": [
      "Help on module random:\n",
      "\n",
      "NAME\n",
      "    random - Random variable generators.\n",
      "\n",
      "MODULE REFERENCE\n",
      "    https://docs.python.org/3.8/library/random\n",
      "    \n",
      "    The following documentation is automatically generated from the Python\n",
      "    source files.  It may be incomplete, incorrect or include features that\n",
      "    are considered implementation detail and may vary between Python\n",
      "    implementations.  When in doubt, consult the module reference at the\n",
      "    location listed above.\n",
      "\n",
      "DESCRIPTION\n",
      "        integers\n",
      "        --------\n",
      "               uniform within range\n",
      "    \n",
      "        sequences\n",
      "        ---------\n",
      "               pick random element\n",
      "               pick random sample\n",
      "               pick weighted random sample\n",
      "               generate random permutation\n",
      "    \n",
      "        distributions on the real line:\n",
      "        ------------------------------\n",
      "               uniform\n",
      "               triangular\n",
      "               normal (Gaussian)\n",
      "               lognormal\n",
      "               negative exponential\n",
      "               gamma\n",
      "               beta\n",
      "               pareto\n",
      "               Weibull\n",
      "    \n",
      "        distributions on the circle (angles 0 to 2pi)\n",
      "        ---------------------------------------------\n",
      "               circular uniform\n",
      "               von Mises\n",
      "    \n",
      "    General notes on the underlying Mersenne Twister core generator:\n",
      "    \n",
      "    * The period is 2**19937-1.\n",
      "    * It is one of the most extensively tested generators in existence.\n",
      "    * The random() method is implemented in C, executes in a single Python step,\n",
      "      and is, therefore, threadsafe.\n",
      "\n",
      "CLASSES\n",
      "    _random.Random(builtins.object)\n",
      "        Random\n",
      "            SystemRandom\n",
      "    \n",
      "    class Random(_random.Random)\n",
      "     |  Random(x=None)\n",
      "     |  \n",
      "     |  Random number generator base class used by bound module functions.\n",
      "     |  \n",
      "     |  Used to instantiate instances of Random to get generators that don't\n",
      "     |  share state.\n",
      "     |  \n",
      "     |  Class Random can also be subclassed if you want to use a different basic\n",
      "     |  generator of your own devising: in that case, override the following\n",
      "     |  methods:  random(), seed(), getstate(), and setstate().\n",
      "     |  Optionally, implement a getrandbits() method so that randrange()\n",
      "     |  can cover arbitrarily large ranges.\n",
      "     |  \n",
      "     |  Method resolution order:\n",
      "     |      Random\n",
      "     |      _random.Random\n",
      "     |      builtins.object\n",
      "     |  \n",
      "     |  Methods defined here:\n",
      "     |  \n",
      "     |  __getstate__(self)\n",
      "     |      # Issue 17489: Since __reduce__ was defined to fix #759889 this is no\n",
      "     |      # longer called; we leave it here because it has been here since random was\n",
      "     |      # rewritten back in 2001 and why risk breaking something.\n",
      "     |  \n",
      "     |  __init__(self, x=None)\n",
      "     |      Initialize an instance.\n",
      "     |      \n",
      "     |      Optional argument x controls seeding, as for Random.seed().\n",
      "     |  \n",
      "     |  __reduce__(self)\n",
      "     |      Helper for pickle.\n",
      "     |  \n",
      "     |  __setstate__(self, state)\n",
      "     |  \n",
      "     |  betavariate(self, alpha, beta)\n",
      "     |      Beta distribution.\n",
      "     |      \n",
      "     |      Conditions on the parameters are alpha > 0 and beta > 0.\n",
      "     |      Returned values range between 0 and 1.\n",
      "     |  \n",
      "     |  choice(self, seq)\n",
      "     |      Choose a random element from a non-empty sequence.\n",
      "     |  \n",
      "     |  choices(self, population, weights=None, *, cum_weights=None, k=1)\n",
      "     |      Return a k sized list of population elements chosen with replacement.\n",
      "     |      \n",
      "     |      If the relative weights or cumulative weights are not specified,\n",
      "     |      the selections are made with equal probability.\n",
      "     |  \n",
      "     |  expovariate(self, lambd)\n",
      "     |      Exponential distribution.\n",
      "     |      \n",
      "     |      lambd is 1.0 divided by the desired mean.  It should be\n",
      "     |      nonzero.  (The parameter would be called \"lambda\", but that is\n",
      "     |      a reserved word in Python.)  Returned values range from 0 to\n",
      "     |      positive infinity if lambd is positive, and from negative\n",
      "     |      infinity to 0 if lambd is negative.\n",
      "     |  \n",
      "     |  gammavariate(self, alpha, beta)\n",
      "     |      Gamma distribution.  Not the gamma function!\n",
      "     |      \n",
      "     |      Conditions on the parameters are alpha > 0 and beta > 0.\n",
      "     |      \n",
      "     |      The probability distribution function is:\n",
      "     |      \n",
      "     |                  x ** (alpha - 1) * math.exp(-x / beta)\n",
      "     |        pdf(x) =  --------------------------------------\n",
      "     |                    math.gamma(alpha) * beta ** alpha\n",
      "     |  \n",
      "     |  gauss(self, mu, sigma)\n",
      "     |      Gaussian distribution.\n",
      "     |      \n",
      "     |      mu is the mean, and sigma is the standard deviation.  This is\n",
      "     |      slightly faster than the normalvariate() function.\n",
      "     |      \n",
      "     |      Not thread-safe without a lock around calls.\n",
      "     |  \n",
      "     |  getstate(self)\n",
      "     |      Return internal state; can be passed to setstate() later.\n",
      "     |  \n",
      "     |  lognormvariate(self, mu, sigma)\n",
      "     |      Log normal distribution.\n",
      "     |      \n",
      "     |      If you take the natural logarithm of this distribution, you'll get a\n",
      "     |      normal distribution with mean mu and standard deviation sigma.\n",
      "     |      mu can have any value, and sigma must be greater than zero.\n",
      "     |  \n",
      "     |  normalvariate(self, mu, sigma)\n",
      "     |      Normal distribution.\n",
      "     |      \n",
      "     |      mu is the mean, and sigma is the standard deviation.\n",
      "     |  \n",
      "     |  paretovariate(self, alpha)\n",
      "     |      Pareto distribution.  alpha is the shape parameter.\n",
      "     |  \n",
      "     |  randint(self, a, b)\n",
      "     |      Return random integer in range [a, b], including both end points.\n",
      "     |  \n",
      "     |  randrange(self, start, stop=None, step=1, _int=<class 'int'>)\n",
      "     |      Choose a random item from range(start, stop[, step]).\n",
      "     |      \n",
      "     |      This fixes the problem with randint() which includes the\n",
      "     |      endpoint; in Python this is usually not what you want.\n",
      "     |  \n",
      "     |  sample(self, population, k)\n",
      "     |      Chooses k unique random elements from a population sequence or set.\n",
      "     |      \n",
      "     |      Returns a new list containing elements from the population while\n",
      "     |      leaving the original population unchanged.  The resulting list is\n",
      "     |      in selection order so that all sub-slices will also be valid random\n",
      "     |      samples.  This allows raffle winners (the sample) to be partitioned\n",
      "     |      into grand prize and second place winners (the subslices).\n",
      "     |      \n",
      "     |      Members of the population need not be hashable or unique.  If the\n",
      "     |      population contains repeats, then each occurrence is a possible\n",
      "     |      selection in the sample.\n",
      "     |      \n",
      "     |      To choose a sample in a range of integers, use range as an argument.\n",
      "     |      This is especially fast and space efficient for sampling from a\n",
      "     |      large population:   sample(range(10000000), 60)\n",
      "     |  \n",
      "     |  seed(self, a=None, version=2)\n",
      "     |      Initialize internal state from hashable object.\n",
      "     |      \n",
      "     |      None or no argument seeds from current time or from an operating\n",
      "     |      system specific randomness source if available.\n",
      "     |      \n",
      "     |      If *a* is an int, all bits are used.\n",
      "     |      \n",
      "     |      For version 2 (the default), all of the bits are used if *a* is a str,\n",
      "     |      bytes, or bytearray.  For version 1 (provided for reproducing random\n",
      "     |      sequences from older versions of Python), the algorithm for str and\n",
      "     |      bytes generates a narrower range of seeds.\n",
      "     |  \n",
      "     |  setstate(self, state)\n",
      "     |      Restore internal state from object returned by getstate().\n",
      "     |  \n",
      "     |  shuffle(self, x, random=None)\n",
      "     |      Shuffle list x in place, and return None.\n",
      "     |      \n",
      "     |      Optional argument random is a 0-argument function returning a\n",
      "     |      random float in [0.0, 1.0); if it is the default None, the\n",
      "     |      standard random.random will be used.\n",
      "     |  \n",
      "     |  triangular(self, low=0.0, high=1.0, mode=None)\n",
      "     |      Triangular distribution.\n",
      "     |      \n",
      "     |      Continuous distribution bounded by given lower and upper limits,\n",
      "     |      and having a given mode value in-between.\n",
      "     |      \n",
      "     |      http://en.wikipedia.org/wiki/Triangular_distribution\n",
      "     |  \n",
      "     |  uniform(self, a, b)\n",
      "     |      Get a random number in the range [a, b) or [a, b] depending on rounding.\n",
      "     |  \n",
      "     |  vonmisesvariate(self, mu, kappa)\n",
      "     |      Circular data distribution.\n",
      "     |      \n",
      "     |      mu is the mean angle, expressed in radians between 0 and 2*pi, and\n",
      "     |      kappa is the concentration parameter, which must be greater than or\n",
      "     |      equal to zero.  If kappa is equal to zero, this distribution reduces\n",
      "     |      to a uniform random angle over the range 0 to 2*pi.\n",
      "     |  \n",
      "     |  weibullvariate(self, alpha, beta)\n",
      "     |      Weibull distribution.\n",
      "     |      \n",
      "     |      alpha is the scale parameter and beta is the shape parameter.\n",
      "     |  \n",
      "     |  ----------------------------------------------------------------------\n",
      "     |  Class methods defined here:\n",
      "     |  \n",
      "     |  __init_subclass__(**kwargs) from builtins.type\n",
      "     |      Control how subclasses generate random integers.\n",
      "     |      \n",
      "     |      The algorithm a subclass can use depends on the random() and/or\n",
      "     |      getrandbits() implementation available to it and determines\n",
      "     |      whether it can generate random integers from arbitrarily large\n",
      "     |      ranges.\n",
      "     |  \n",
      "     |  ----------------------------------------------------------------------\n",
      "     |  Data descriptors defined here:\n",
      "     |  \n",
      "     |  __dict__\n",
      "     |      dictionary for instance variables (if defined)\n",
      "     |  \n",
      "     |  __weakref__\n",
      "     |      list of weak references to the object (if defined)\n",
      "     |  \n",
      "     |  ----------------------------------------------------------------------\n",
      "     |  Data and other attributes defined here:\n",
      "     |  \n",
      "     |  VERSION = 3\n",
      "     |  \n",
      "     |  ----------------------------------------------------------------------\n",
      "     |  Methods inherited from _random.Random:\n",
      "     |  \n",
      "     |  __getattribute__(self, name, /)\n",
      "     |      Return getattr(self, name).\n",
      "     |  \n",
      "     |  getrandbits(self, k, /)\n",
      "     |      getrandbits(k) -> x.  Generates an int with k random bits.\n",
      "     |  \n",
      "     |  random(self, /)\n",
      "     |      random() -> x in the interval [0, 1).\n",
      "     |  \n",
      "     |  ----------------------------------------------------------------------\n",
      "     |  Static methods inherited from _random.Random:\n",
      "     |  \n",
      "     |  __new__(*args, **kwargs) from builtins.type\n",
      "     |      Create and return a new object.  See help(type) for accurate signature.\n",
      "    \n",
      "    class SystemRandom(Random)\n",
      "     |  SystemRandom(x=None)\n",
      "     |  \n",
      "     |  Alternate random number generator using sources provided\n",
      "     |  by the operating system (such as /dev/urandom on Unix or\n",
      "     |  CryptGenRandom on Windows).\n",
      "     |  \n",
      "     |   Not available on all systems (see os.urandom() for details).\n",
      "     |  \n",
      "     |  Method resolution order:\n",
      "     |      SystemRandom\n",
      "     |      Random\n",
      "     |      _random.Random\n",
      "     |      builtins.object\n",
      "     |  \n",
      "     |  Methods defined here:\n",
      "     |  \n",
      "     |  getrandbits(self, k)\n",
      "     |      getrandbits(k) -> x.  Generates an int with k random bits.\n",
      "     |  \n",
      "     |  getstate = _notimplemented(self, *args, **kwds)\n",
      "     |  \n",
      "     |  random(self)\n",
      "     |      Get the next random number in the range [0.0, 1.0).\n",
      "     |  \n",
      "     |  seed(self, *args, **kwds)\n",
      "     |      Stub method.  Not used for a system random number generator.\n",
      "     |  \n",
      "     |  setstate = _notimplemented(self, *args, **kwds)\n",
      "     |  \n",
      "     |  ----------------------------------------------------------------------\n",
      "     |  Methods inherited from Random:\n",
      "     |  \n",
      "     |  __getstate__(self)\n",
      "     |      # Issue 17489: Since __reduce__ was defined to fix #759889 this is no\n",
      "     |      # longer called; we leave it here because it has been here since random was\n",
      "     |      # rewritten back in 2001 and why risk breaking something.\n",
      "     |  \n",
      "     |  __init__(self, x=None)\n",
      "     |      Initialize an instance.\n",
      "     |      \n",
      "     |      Optional argument x controls seeding, as for Random.seed().\n",
      "     |  \n",
      "     |  __reduce__(self)\n",
      "     |      Helper for pickle.\n",
      "     |  \n",
      "     |  __setstate__(self, state)\n",
      "     |  \n",
      "     |  betavariate(self, alpha, beta)\n",
      "     |      Beta distribution.\n",
      "     |      \n",
      "     |      Conditions on the parameters are alpha > 0 and beta > 0.\n",
      "     |      Returned values range between 0 and 1.\n",
      "     |  \n",
      "     |  choice(self, seq)\n",
      "     |      Choose a random element from a non-empty sequence.\n",
      "     |  \n",
      "     |  choices(self, population, weights=None, *, cum_weights=None, k=1)\n",
      "     |      Return a k sized list of population elements chosen with replacement.\n",
      "     |      \n",
      "     |      If the relative weights or cumulative weights are not specified,\n",
      "     |      the selections are made with equal probability.\n",
      "     |  \n",
      "     |  expovariate(self, lambd)\n",
      "     |      Exponential distribution.\n",
      "     |      \n",
      "     |      lambd is 1.0 divided by the desired mean.  It should be\n",
      "     |      nonzero.  (The parameter would be called \"lambda\", but that is\n",
      "     |      a reserved word in Python.)  Returned values range from 0 to\n",
      "     |      positive infinity if lambd is positive, and from negative\n",
      "     |      infinity to 0 if lambd is negative.\n",
      "     |  \n",
      "     |  gammavariate(self, alpha, beta)\n",
      "     |      Gamma distribution.  Not the gamma function!\n",
      "     |      \n",
      "     |      Conditions on the parameters are alpha > 0 and beta > 0.\n",
      "     |      \n",
      "     |      The probability distribution function is:\n",
      "     |      \n",
      "     |                  x ** (alpha - 1) * math.exp(-x / beta)\n",
      "     |        pdf(x) =  --------------------------------------\n",
      "     |                    math.gamma(alpha) * beta ** alpha\n",
      "     |  \n",
      "     |  gauss(self, mu, sigma)\n",
      "     |      Gaussian distribution.\n",
      "     |      \n",
      "     |      mu is the mean, and sigma is the standard deviation.  This is\n",
      "     |      slightly faster than the normalvariate() function.\n",
      "     |      \n",
      "     |      Not thread-safe without a lock around calls.\n",
      "     |  \n",
      "     |  lognormvariate(self, mu, sigma)\n",
      "     |      Log normal distribution.\n",
      "     |      \n",
      "     |      If you take the natural logarithm of this distribution, you'll get a\n",
      "     |      normal distribution with mean mu and standard deviation sigma.\n",
      "     |      mu can have any value, and sigma must be greater than zero.\n",
      "     |  \n",
      "     |  normalvariate(self, mu, sigma)\n",
      "     |      Normal distribution.\n",
      "     |      \n",
      "     |      mu is the mean, and sigma is the standard deviation.\n",
      "     |  \n",
      "     |  paretovariate(self, alpha)\n",
      "     |      Pareto distribution.  alpha is the shape parameter.\n",
      "     |  \n",
      "     |  randint(self, a, b)\n",
      "     |      Return random integer in range [a, b], including both end points.\n",
      "     |  \n",
      "     |  randrange(self, start, stop=None, step=1, _int=<class 'int'>)\n",
      "     |      Choose a random item from range(start, stop[, step]).\n",
      "     |      \n",
      "     |      This fixes the problem with randint() which includes the\n",
      "     |      endpoint; in Python this is usually not what you want.\n",
      "     |  \n",
      "     |  sample(self, population, k)\n",
      "     |      Chooses k unique random elements from a population sequence or set.\n",
      "     |      \n",
      "     |      Returns a new list containing elements from the population while\n",
      "     |      leaving the original population unchanged.  The resulting list is\n",
      "     |      in selection order so that all sub-slices will also be valid random\n",
      "     |      samples.  This allows raffle winners (the sample) to be partitioned\n",
      "     |      into grand prize and second place winners (the subslices).\n",
      "     |      \n",
      "     |      Members of the population need not be hashable or unique.  If the\n",
      "     |      population contains repeats, then each occurrence is a possible\n",
      "     |      selection in the sample.\n",
      "     |      \n",
      "     |      To choose a sample in a range of integers, use range as an argument.\n",
      "     |      This is especially fast and space efficient for sampling from a\n",
      "     |      large population:   sample(range(10000000), 60)\n",
      "     |  \n",
      "     |  shuffle(self, x, random=None)\n",
      "     |      Shuffle list x in place, and return None.\n",
      "     |      \n",
      "     |      Optional argument random is a 0-argument function returning a\n",
      "     |      random float in [0.0, 1.0); if it is the default None, the\n",
      "     |      standard random.random will be used.\n",
      "     |  \n",
      "     |  triangular(self, low=0.0, high=1.0, mode=None)\n",
      "     |      Triangular distribution.\n",
      "     |      \n",
      "     |      Continuous distribution bounded by given lower and upper limits,\n",
      "     |      and having a given mode value in-between.\n",
      "     |      \n",
      "     |      http://en.wikipedia.org/wiki/Triangular_distribution\n",
      "     |  \n",
      "     |  uniform(self, a, b)\n",
      "     |      Get a random number in the range [a, b) or [a, b] depending on rounding.\n",
      "     |  \n",
      "     |  vonmisesvariate(self, mu, kappa)\n",
      "     |      Circular data distribution.\n",
      "     |      \n",
      "     |      mu is the mean angle, expressed in radians between 0 and 2*pi, and\n",
      "     |      kappa is the concentration parameter, which must be greater than or\n",
      "     |      equal to zero.  If kappa is equal to zero, this distribution reduces\n",
      "     |      to a uniform random angle over the range 0 to 2*pi.\n",
      "     |  \n",
      "     |  weibullvariate(self, alpha, beta)\n",
      "     |      Weibull distribution.\n",
      "     |      \n",
      "     |      alpha is the scale parameter and beta is the shape parameter.\n",
      "     |  \n",
      "     |  ----------------------------------------------------------------------\n",
      "     |  Class methods inherited from Random:\n",
      "     |  \n",
      "     |  __init_subclass__(**kwargs) from builtins.type\n",
      "     |      Control how subclasses generate random integers.\n",
      "     |      \n",
      "     |      The algorithm a subclass can use depends on the random() and/or\n",
      "     |      getrandbits() implementation available to it and determines\n",
      "     |      whether it can generate random integers from arbitrarily large\n",
      "     |      ranges.\n",
      "     |  \n",
      "     |  ----------------------------------------------------------------------\n",
      "     |  Data descriptors inherited from Random:\n",
      "     |  \n",
      "     |  __dict__\n",
      "     |      dictionary for instance variables (if defined)\n",
      "     |  \n",
      "     |  __weakref__\n",
      "     |      list of weak references to the object (if defined)\n",
      "     |  \n",
      "     |  ----------------------------------------------------------------------\n",
      "     |  Data and other attributes inherited from Random:\n",
      "     |  \n",
      "     |  VERSION = 3\n",
      "     |  \n",
      "     |  ----------------------------------------------------------------------\n",
      "     |  Methods inherited from _random.Random:\n",
      "     |  \n",
      "     |  __getattribute__(self, name, /)\n",
      "     |      Return getattr(self, name).\n",
      "     |  \n",
      "     |  ----------------------------------------------------------------------\n",
      "     |  Static methods inherited from _random.Random:\n",
      "     |  \n",
      "     |  __new__(*args, **kwargs) from builtins.type\n",
      "     |      Create and return a new object.  See help(type) for accurate signature.\n",
      "\n",
      "FUNCTIONS\n",
      "    betavariate(alpha, beta) method of Random instance\n",
      "        Beta distribution.\n",
      "        \n",
      "        Conditions on the parameters are alpha > 0 and beta > 0.\n",
      "        Returned values range between 0 and 1.\n",
      "    \n",
      "    choice(seq) method of Random instance\n",
      "        Choose a random element from a non-empty sequence.\n",
      "    \n",
      "    choices(population, weights=None, *, cum_weights=None, k=1) method of Random instance\n",
      "        Return a k sized list of population elements chosen with replacement.\n",
      "        \n",
      "        If the relative weights or cumulative weights are not specified,\n",
      "        the selections are made with equal probability.\n",
      "    \n",
      "    expovariate(lambd) method of Random instance\n",
      "        Exponential distribution.\n",
      "        \n",
      "        lambd is 1.0 divided by the desired mean.  It should be\n",
      "        nonzero.  (The parameter would be called \"lambda\", but that is\n",
      "        a reserved word in Python.)  Returned values range from 0 to\n",
      "        positive infinity if lambd is positive, and from negative\n",
      "        infinity to 0 if lambd is negative.\n",
      "    \n",
      "    gammavariate(alpha, beta) method of Random instance\n",
      "        Gamma distribution.  Not the gamma function!\n",
      "        \n",
      "        Conditions on the parameters are alpha > 0 and beta > 0.\n",
      "        \n",
      "        The probability distribution function is:\n",
      "        \n",
      "                    x ** (alpha - 1) * math.exp(-x / beta)\n",
      "          pdf(x) =  --------------------------------------\n",
      "                      math.gamma(alpha) * beta ** alpha\n",
      "    \n",
      "    gauss(mu, sigma) method of Random instance\n",
      "        Gaussian distribution.\n",
      "        \n",
      "        mu is the mean, and sigma is the standard deviation.  This is\n",
      "        slightly faster than the normalvariate() function.\n",
      "        \n",
      "        Not thread-safe without a lock around calls.\n",
      "    \n",
      "    getrandbits(k, /) method of Random instance\n",
      "        getrandbits(k) -> x.  Generates an int with k random bits.\n",
      "    \n",
      "    getstate() method of Random instance\n",
      "        Return internal state; can be passed to setstate() later.\n",
      "    \n",
      "    lognormvariate(mu, sigma) method of Random instance\n",
      "        Log normal distribution.\n",
      "        \n",
      "        If you take the natural logarithm of this distribution, you'll get a\n",
      "        normal distribution with mean mu and standard deviation sigma.\n",
      "        mu can have any value, and sigma must be greater than zero.\n",
      "    \n",
      "    normalvariate(mu, sigma) method of Random instance\n",
      "        Normal distribution.\n",
      "        \n",
      "        mu is the mean, and sigma is the standard deviation.\n",
      "    \n",
      "    paretovariate(alpha) method of Random instance\n",
      "        Pareto distribution.  alpha is the shape parameter.\n",
      "    \n",
      "    randint(a, b) method of Random instance\n",
      "        Return random integer in range [a, b], including both end points.\n",
      "    \n",
      "    random() method of Random instance\n",
      "        random() -> x in the interval [0, 1).\n",
      "    \n",
      "    randrange(start, stop=None, step=1, _int=<class 'int'>) method of Random instance\n",
      "        Choose a random item from range(start, stop[, step]).\n",
      "        \n",
      "        This fixes the problem with randint() which includes the\n",
      "        endpoint; in Python this is usually not what you want.\n",
      "    \n",
      "    sample(population, k) method of Random instance\n",
      "        Chooses k unique random elements from a population sequence or set.\n",
      "        \n",
      "        Returns a new list containing elements from the population while\n",
      "        leaving the original population unchanged.  The resulting list is\n",
      "        in selection order so that all sub-slices will also be valid random\n",
      "        samples.  This allows raffle winners (the sample) to be partitioned\n",
      "        into grand prize and second place winners (the subslices).\n",
      "        \n",
      "        Members of the population need not be hashable or unique.  If the\n",
      "        population contains repeats, then each occurrence is a possible\n",
      "        selection in the sample.\n",
      "        \n",
      "        To choose a sample in a range of integers, use range as an argument.\n",
      "        This is especially fast and space efficient for sampling from a\n",
      "        large population:   sample(range(10000000), 60)\n",
      "    \n",
      "    seed(a=None, version=2) method of Random instance\n",
      "        Initialize internal state from hashable object.\n",
      "        \n",
      "        None or no argument seeds from current time or from an operating\n",
      "        system specific randomness source if available.\n",
      "        \n",
      "        If *a* is an int, all bits are used.\n",
      "        \n",
      "        For version 2 (the default), all of the bits are used if *a* is a str,\n",
      "        bytes, or bytearray.  For version 1 (provided for reproducing random\n",
      "        sequences from older versions of Python), the algorithm for str and\n",
      "        bytes generates a narrower range of seeds.\n",
      "    \n",
      "    setstate(state) method of Random instance\n",
      "        Restore internal state from object returned by getstate().\n",
      "    \n",
      "    shuffle(x, random=None) method of Random instance\n",
      "        Shuffle list x in place, and return None.\n",
      "        \n",
      "        Optional argument random is a 0-argument function returning a\n",
      "        random float in [0.0, 1.0); if it is the default None, the\n",
      "        standard random.random will be used.\n",
      "    \n",
      "    triangular(low=0.0, high=1.0, mode=None) method of Random instance\n",
      "        Triangular distribution.\n",
      "        \n",
      "        Continuous distribution bounded by given lower and upper limits,\n",
      "        and having a given mode value in-between.\n",
      "        \n",
      "        http://en.wikipedia.org/wiki/Triangular_distribution\n",
      "    \n",
      "    uniform(a, b) method of Random instance\n",
      "        Get a random number in the range [a, b) or [a, b] depending on rounding.\n",
      "    \n",
      "    vonmisesvariate(mu, kappa) method of Random instance\n",
      "        Circular data distribution.\n",
      "        \n",
      "        mu is the mean angle, expressed in radians between 0 and 2*pi, and\n",
      "        kappa is the concentration parameter, which must be greater than or\n",
      "        equal to zero.  If kappa is equal to zero, this distribution reduces\n",
      "        to a uniform random angle over the range 0 to 2*pi.\n",
      "    \n",
      "    weibullvariate(alpha, beta) method of Random instance\n",
      "        Weibull distribution.\n",
      "        \n",
      "        alpha is the scale parameter and beta is the shape parameter.\n",
      "\n",
      "DATA\n",
      "    __all__ = ['Random', 'seed', 'random', 'uniform', 'randint', 'choice',...\n",
      "\n",
      "FILE\n",
      "    c:\\users\\niels\\anaconda3\\lib\\random.py\n",
      "\n",
      "\n"
     ]
    }
   ],
   "source": [
    "help(random)"
   ]
  },
  {
   "cell_type": "code",
   "execution_count": 137,
   "id": "beee77c9-f712-4899-8ff9-0b4108030dbb",
   "metadata": {},
   "outputs": [
    {
     "name": "stdout",
     "output_type": "stream",
     "text": [
      "random base = T base index = 7\n"
     ]
    }
   ],
   "source": [
    "import math\n",
    "import random\n",
    "bases = 'ATCGCTATATGC'\n",
    "n_bases = len(bases)\n",
    "random_pos = random.randrange (n_bases)\n",
    "print ('random base =', bases[random_pos], 'base index =', random_pos)"
   ]
  },
  {
   "cell_type": "code",
   "execution_count": 143,
   "id": "b0878470-0317-411c-941b-b0a09c7f5052",
   "metadata": {},
   "outputs": [
    {
     "data": {
      "text/html": [
       "<div>\n",
       "<style scoped>\n",
       "    .dataframe tbody tr th:only-of-type {\n",
       "        vertical-align: middle;\n",
       "    }\n",
       "\n",
       "    .dataframe tbody tr th {\n",
       "        vertical-align: top;\n",
       "    }\n",
       "\n",
       "    .dataframe thead th {\n",
       "        text-align: right;\n",
       "    }\n",
       "</style>\n",
       "<table border=\"1\" class=\"dataframe\">\n",
       "  <thead>\n",
       "    <tr style=\"text-align: right;\">\n",
       "      <th></th>\n",
       "      <th>DisProt entry ID</th>\n",
       "      <th>UniProt ACC</th>\n",
       "      <th>Start</th>\n",
       "      <th>End</th>\n",
       "      <th>Reference</th>\n",
       "      <th>Length</th>\n",
       "    </tr>\n",
       "  </thead>\n",
       "  <tbody>\n",
       "    <tr>\n",
       "      <th>0</th>\n",
       "      <td>DP00613</td>\n",
       "      <td>Q22472</td>\n",
       "      <td>1</td>\n",
       "      <td>378</td>\n",
       "      <td>pmid:19899809</td>\n",
       "      <td>378</td>\n",
       "    </tr>\n",
       "    <tr>\n",
       "      <th>1</th>\n",
       "      <td>DP00868</td>\n",
       "      <td>Q9NHC3</td>\n",
       "      <td>102</td>\n",
       "      <td>117</td>\n",
       "      <td>pmid:21616056</td>\n",
       "      <td>279</td>\n",
       "    </tr>\n",
       "    <tr>\n",
       "      <th>2</th>\n",
       "      <td>DP01090</td>\n",
       "      <td>G4SLH0</td>\n",
       "      <td>3546</td>\n",
       "      <td>3795</td>\n",
       "      <td>pmid:20346955</td>\n",
       "      <td>18562</td>\n",
       "    </tr>\n",
       "    <tr>\n",
       "      <th>3</th>\n",
       "      <td>DP01113</td>\n",
       "      <td>D0PV95</td>\n",
       "      <td>1</td>\n",
       "      <td>168</td>\n",
       "      <td>pmid:26015579</td>\n",
       "      <td>708</td>\n",
       "    </tr>\n",
       "    <tr>\n",
       "      <th>4</th>\n",
       "      <td>DP01313</td>\n",
       "      <td>Q9N4U5</td>\n",
       "      <td>163</td>\n",
       "      <td>223</td>\n",
       "      <td>pmid:27150041</td>\n",
       "      <td>547</td>\n",
       "    </tr>\n",
       "    <tr>\n",
       "      <th>5</th>\n",
       "      <td>DP01407</td>\n",
       "      <td>O61667</td>\n",
       "      <td>93</td>\n",
       "      <td>106</td>\n",
       "      <td>pmid:15383288</td>\n",
       "      <td>106</td>\n",
       "    </tr>\n",
       "    <tr>\n",
       "      <th>6</th>\n",
       "      <td>DP01436</td>\n",
       "      <td>P54936</td>\n",
       "      <td>423</td>\n",
       "      <td>487</td>\n",
       "      <td>pmid:12110687</td>\n",
       "      <td>961</td>\n",
       "    </tr>\n",
       "    <tr>\n",
       "      <th>7</th>\n",
       "      <td>DP01437</td>\n",
       "      <td>P90976</td>\n",
       "      <td>115</td>\n",
       "      <td>180</td>\n",
       "      <td>pmid:12110687</td>\n",
       "      <td>297</td>\n",
       "    </tr>\n",
       "    <tr>\n",
       "      <th>8</th>\n",
       "      <td>DP01558</td>\n",
       "      <td>Q9XTY3</td>\n",
       "      <td>17</td>\n",
       "      <td>211</td>\n",
       "      <td>pmid:22947085</td>\n",
       "      <td>211</td>\n",
       "    </tr>\n",
       "    <tr>\n",
       "      <th>9</th>\n",
       "      <td>DP01973</td>\n",
       "      <td>Q09514</td>\n",
       "      <td>1</td>\n",
       "      <td>18</td>\n",
       "      <td>pmid:26621324</td>\n",
       "      <td>266</td>\n",
       "    </tr>\n",
       "    <tr>\n",
       "      <th>10</th>\n",
       "      <td>DP02025</td>\n",
       "      <td>P30429</td>\n",
       "      <td>1</td>\n",
       "      <td>105</td>\n",
       "      <td>pmid:16208361</td>\n",
       "      <td>571</td>\n",
       "    </tr>\n",
       "    <tr>\n",
       "      <th>11</th>\n",
       "      <td>DP02216</td>\n",
       "      <td>Q9U3S5</td>\n",
       "      <td>1</td>\n",
       "      <td>100</td>\n",
       "      <td>pmid:30036386</td>\n",
       "      <td>1050</td>\n",
       "    </tr>\n",
       "    <tr>\n",
       "      <th>12</th>\n",
       "      <td>DP02313</td>\n",
       "      <td>Q8IG33</td>\n",
       "      <td>18</td>\n",
       "      <td>88</td>\n",
       "      <td>pmid:21397184</td>\n",
       "      <td>186</td>\n",
       "    </tr>\n",
       "  </tbody>\n",
       "</table>\n",
       "</div>"
      ],
      "text/plain": [
       "   DisProt entry ID UniProt ACC  Start   End      Reference  Length\n",
       "0           DP00613      Q22472      1   378  pmid:19899809     378\n",
       "1           DP00868      Q9NHC3    102   117  pmid:21616056     279\n",
       "2           DP01090      G4SLH0   3546  3795  pmid:20346955   18562\n",
       "3           DP01113      D0PV95      1   168  pmid:26015579     708\n",
       "4           DP01313      Q9N4U5    163   223  pmid:27150041     547\n",
       "5           DP01407      O61667     93   106  pmid:15383288     106\n",
       "6           DP01436      P54936    423   487  pmid:12110687     961\n",
       "7           DP01437      P90976    115   180  pmid:12110687     297\n",
       "8           DP01558      Q9XTY3     17   211  pmid:22947085     211\n",
       "9           DP01973      Q09514      1    18  pmid:26621324     266\n",
       "10          DP02025      P30429      1   105  pmid:16208361     571\n",
       "11          DP02216      Q9U3S5      1   100  pmid:30036386    1050\n",
       "12          DP02313      Q8IG33     18    88  pmid:21397184     186"
      ]
     },
     "execution_count": 143,
     "metadata": {},
     "output_type": "execute_result"
    }
   ],
   "source": [
    "import pandas as pd\n",
    "data = pd.read_csv ('data/DisProt_data_Caenorhabditis-elegans.csv')\n",
    "data"
   ]
  },
  {
   "cell_type": "code",
   "execution_count": 150,
   "id": "3fead373-6021-490f-8b0d-05419f7694b6",
   "metadata": {},
   "outputs": [
    {
     "data": {
      "text/html": [
       "<div>\n",
       "<style scoped>\n",
       "    .dataframe tbody tr th:only-of-type {\n",
       "        vertical-align: middle;\n",
       "    }\n",
       "\n",
       "    .dataframe tbody tr th {\n",
       "        vertical-align: top;\n",
       "    }\n",
       "\n",
       "    .dataframe thead th {\n",
       "        text-align: right;\n",
       "    }\n",
       "</style>\n",
       "<table border=\"1\" class=\"dataframe\">\n",
       "  <thead>\n",
       "    <tr style=\"text-align: right;\">\n",
       "      <th></th>\n",
       "      <th>UniProt ACC</th>\n",
       "      <th>Start</th>\n",
       "      <th>End</th>\n",
       "      <th>Reference</th>\n",
       "      <th>Length</th>\n",
       "    </tr>\n",
       "    <tr>\n",
       "      <th>DisProt entry ID</th>\n",
       "      <th></th>\n",
       "      <th></th>\n",
       "      <th></th>\n",
       "      <th></th>\n",
       "      <th></th>\n",
       "    </tr>\n",
       "  </thead>\n",
       "  <tbody>\n",
       "    <tr>\n",
       "      <th>DP00613</th>\n",
       "      <td>Q22472</td>\n",
       "      <td>1</td>\n",
       "      <td>378</td>\n",
       "      <td>pmid:19899809</td>\n",
       "      <td>378</td>\n",
       "    </tr>\n",
       "    <tr>\n",
       "      <th>DP00868</th>\n",
       "      <td>Q9NHC3</td>\n",
       "      <td>102</td>\n",
       "      <td>117</td>\n",
       "      <td>pmid:21616056</td>\n",
       "      <td>279</td>\n",
       "    </tr>\n",
       "    <tr>\n",
       "      <th>DP01090</th>\n",
       "      <td>G4SLH0</td>\n",
       "      <td>3546</td>\n",
       "      <td>3795</td>\n",
       "      <td>pmid:20346955</td>\n",
       "      <td>18562</td>\n",
       "    </tr>\n",
       "    <tr>\n",
       "      <th>DP01113</th>\n",
       "      <td>D0PV95</td>\n",
       "      <td>1</td>\n",
       "      <td>168</td>\n",
       "      <td>pmid:26015579</td>\n",
       "      <td>708</td>\n",
       "    </tr>\n",
       "    <tr>\n",
       "      <th>DP01313</th>\n",
       "      <td>Q9N4U5</td>\n",
       "      <td>163</td>\n",
       "      <td>223</td>\n",
       "      <td>pmid:27150041</td>\n",
       "      <td>547</td>\n",
       "    </tr>\n",
       "    <tr>\n",
       "      <th>DP01407</th>\n",
       "      <td>O61667</td>\n",
       "      <td>93</td>\n",
       "      <td>106</td>\n",
       "      <td>pmid:15383288</td>\n",
       "      <td>106</td>\n",
       "    </tr>\n",
       "    <tr>\n",
       "      <th>DP01436</th>\n",
       "      <td>P54936</td>\n",
       "      <td>423</td>\n",
       "      <td>487</td>\n",
       "      <td>pmid:12110687</td>\n",
       "      <td>961</td>\n",
       "    </tr>\n",
       "    <tr>\n",
       "      <th>DP01437</th>\n",
       "      <td>P90976</td>\n",
       "      <td>115</td>\n",
       "      <td>180</td>\n",
       "      <td>pmid:12110687</td>\n",
       "      <td>297</td>\n",
       "    </tr>\n",
       "    <tr>\n",
       "      <th>DP01558</th>\n",
       "      <td>Q9XTY3</td>\n",
       "      <td>17</td>\n",
       "      <td>211</td>\n",
       "      <td>pmid:22947085</td>\n",
       "      <td>211</td>\n",
       "    </tr>\n",
       "    <tr>\n",
       "      <th>DP01973</th>\n",
       "      <td>Q09514</td>\n",
       "      <td>1</td>\n",
       "      <td>18</td>\n",
       "      <td>pmid:26621324</td>\n",
       "      <td>266</td>\n",
       "    </tr>\n",
       "    <tr>\n",
       "      <th>DP02025</th>\n",
       "      <td>P30429</td>\n",
       "      <td>1</td>\n",
       "      <td>105</td>\n",
       "      <td>pmid:16208361</td>\n",
       "      <td>571</td>\n",
       "    </tr>\n",
       "    <tr>\n",
       "      <th>DP02216</th>\n",
       "      <td>Q9U3S5</td>\n",
       "      <td>1</td>\n",
       "      <td>100</td>\n",
       "      <td>pmid:30036386</td>\n",
       "      <td>1050</td>\n",
       "    </tr>\n",
       "    <tr>\n",
       "      <th>DP02313</th>\n",
       "      <td>Q8IG33</td>\n",
       "      <td>18</td>\n",
       "      <td>88</td>\n",
       "      <td>pmid:21397184</td>\n",
       "      <td>186</td>\n",
       "    </tr>\n",
       "  </tbody>\n",
       "</table>\n",
       "</div>"
      ],
      "text/plain": [
       "                 UniProt ACC  Start   End      Reference  Length\n",
       "DisProt entry ID                                                \n",
       "DP00613               Q22472      1   378  pmid:19899809     378\n",
       "DP00868               Q9NHC3    102   117  pmid:21616056     279\n",
       "DP01090               G4SLH0   3546  3795  pmid:20346955   18562\n",
       "DP01113               D0PV95      1   168  pmid:26015579     708\n",
       "DP01313               Q9N4U5    163   223  pmid:27150041     547\n",
       "DP01407               O61667     93   106  pmid:15383288     106\n",
       "DP01436               P54936    423   487  pmid:12110687     961\n",
       "DP01437               P90976    115   180  pmid:12110687     297\n",
       "DP01558               Q9XTY3     17   211  pmid:22947085     211\n",
       "DP01973               Q09514      1    18  pmid:26621324     266\n",
       "DP02025               P30429      1   105  pmid:16208361     571\n",
       "DP02216               Q9U3S5      1   100  pmid:30036386    1050\n",
       "DP02313               Q8IG33     18    88  pmid:21397184     186"
      ]
     },
     "execution_count": 150,
     "metadata": {},
     "output_type": "execute_result"
    }
   ],
   "source": [
    "data = pd.read_csv ('data/DisProt_data_Caenorhabditis-elegans.csv', index_col= 'DisProt entry ID')\n",
    "data"
   ]
  },
  {
   "cell_type": "code",
   "execution_count": 152,
   "id": "c20e1959-4c34-4717-88bc-06e81316d0c3",
   "metadata": {},
   "outputs": [
    {
     "data": {
      "text/plain": [
       "Index(['UniProt ACC', 'Start', 'End', 'Reference', 'Length'], dtype='object')"
      ]
     },
     "execution_count": 152,
     "metadata": {},
     "output_type": "execute_result"
    }
   ],
   "source": [
    "data.columns"
   ]
  },
  {
   "cell_type": "code",
   "execution_count": 155,
   "id": "263caeec-f5f0-43de-adac-eb08812b2745",
   "metadata": {},
   "outputs": [
    {
     "data": {
      "text/html": [
       "<div>\n",
       "<style scoped>\n",
       "    .dataframe tbody tr th:only-of-type {\n",
       "        vertical-align: middle;\n",
       "    }\n",
       "\n",
       "    .dataframe tbody tr th {\n",
       "        vertical-align: top;\n",
       "    }\n",
       "\n",
       "    .dataframe thead th {\n",
       "        text-align: right;\n",
       "    }\n",
       "</style>\n",
       "<table border=\"1\" class=\"dataframe\">\n",
       "  <thead>\n",
       "    <tr style=\"text-align: right;\">\n",
       "      <th>DisProt entry ID</th>\n",
       "      <th>DP00613</th>\n",
       "      <th>DP00868</th>\n",
       "      <th>DP01090</th>\n",
       "      <th>DP01113</th>\n",
       "      <th>DP01313</th>\n",
       "      <th>DP01407</th>\n",
       "      <th>DP01436</th>\n",
       "      <th>DP01437</th>\n",
       "      <th>DP01558</th>\n",
       "      <th>DP01973</th>\n",
       "      <th>DP02025</th>\n",
       "      <th>DP02216</th>\n",
       "      <th>DP02313</th>\n",
       "    </tr>\n",
       "  </thead>\n",
       "  <tbody>\n",
       "    <tr>\n",
       "      <th>UniProt ACC</th>\n",
       "      <td>Q22472</td>\n",
       "      <td>Q9NHC3</td>\n",
       "      <td>G4SLH0</td>\n",
       "      <td>D0PV95</td>\n",
       "      <td>Q9N4U5</td>\n",
       "      <td>O61667</td>\n",
       "      <td>P54936</td>\n",
       "      <td>P90976</td>\n",
       "      <td>Q9XTY3</td>\n",
       "      <td>Q09514</td>\n",
       "      <td>P30429</td>\n",
       "      <td>Q9U3S5</td>\n",
       "      <td>Q8IG33</td>\n",
       "    </tr>\n",
       "    <tr>\n",
       "      <th>Start</th>\n",
       "      <td>1</td>\n",
       "      <td>102</td>\n",
       "      <td>3546</td>\n",
       "      <td>1</td>\n",
       "      <td>163</td>\n",
       "      <td>93</td>\n",
       "      <td>423</td>\n",
       "      <td>115</td>\n",
       "      <td>17</td>\n",
       "      <td>1</td>\n",
       "      <td>1</td>\n",
       "      <td>1</td>\n",
       "      <td>18</td>\n",
       "    </tr>\n",
       "    <tr>\n",
       "      <th>End</th>\n",
       "      <td>378</td>\n",
       "      <td>117</td>\n",
       "      <td>3795</td>\n",
       "      <td>168</td>\n",
       "      <td>223</td>\n",
       "      <td>106</td>\n",
       "      <td>487</td>\n",
       "      <td>180</td>\n",
       "      <td>211</td>\n",
       "      <td>18</td>\n",
       "      <td>105</td>\n",
       "      <td>100</td>\n",
       "      <td>88</td>\n",
       "    </tr>\n",
       "    <tr>\n",
       "      <th>Reference</th>\n",
       "      <td>pmid:19899809</td>\n",
       "      <td>pmid:21616056</td>\n",
       "      <td>pmid:20346955</td>\n",
       "      <td>pmid:26015579</td>\n",
       "      <td>pmid:27150041</td>\n",
       "      <td>pmid:15383288</td>\n",
       "      <td>pmid:12110687</td>\n",
       "      <td>pmid:12110687</td>\n",
       "      <td>pmid:22947085</td>\n",
       "      <td>pmid:26621324</td>\n",
       "      <td>pmid:16208361</td>\n",
       "      <td>pmid:30036386</td>\n",
       "      <td>pmid:21397184</td>\n",
       "    </tr>\n",
       "    <tr>\n",
       "      <th>Length</th>\n",
       "      <td>378</td>\n",
       "      <td>279</td>\n",
       "      <td>18562</td>\n",
       "      <td>708</td>\n",
       "      <td>547</td>\n",
       "      <td>106</td>\n",
       "      <td>961</td>\n",
       "      <td>297</td>\n",
       "      <td>211</td>\n",
       "      <td>266</td>\n",
       "      <td>571</td>\n",
       "      <td>1050</td>\n",
       "      <td>186</td>\n",
       "    </tr>\n",
       "  </tbody>\n",
       "</table>\n",
       "</div>"
      ],
      "text/plain": [
       "DisProt entry ID        DP00613        DP00868        DP01090        DP01113  \\\n",
       "UniProt ACC              Q22472         Q9NHC3         G4SLH0         D0PV95   \n",
       "Start                         1            102           3546              1   \n",
       "End                         378            117           3795            168   \n",
       "Reference         pmid:19899809  pmid:21616056  pmid:20346955  pmid:26015579   \n",
       "Length                      378            279          18562            708   \n",
       "\n",
       "DisProt entry ID        DP01313        DP01407        DP01436        DP01437  \\\n",
       "UniProt ACC              Q9N4U5         O61667         P54936         P90976   \n",
       "Start                       163             93            423            115   \n",
       "End                         223            106            487            180   \n",
       "Reference         pmid:27150041  pmid:15383288  pmid:12110687  pmid:12110687   \n",
       "Length                      547            106            961            297   \n",
       "\n",
       "DisProt entry ID        DP01558        DP01973        DP02025        DP02216  \\\n",
       "UniProt ACC              Q9XTY3         Q09514         P30429         Q9U3S5   \n",
       "Start                        17              1              1              1   \n",
       "End                         211             18            105            100   \n",
       "Reference         pmid:22947085  pmid:26621324  pmid:16208361  pmid:30036386   \n",
       "Length                      211            266            571           1050   \n",
       "\n",
       "DisProt entry ID        DP02313  \n",
       "UniProt ACC              Q8IG33  \n",
       "Start                        18  \n",
       "End                          88  \n",
       "Reference         pmid:21397184  \n",
       "Length                      186  "
      ]
     },
     "execution_count": 155,
     "metadata": {},
     "output_type": "execute_result"
    }
   ],
   "source": [
    "data.T"
   ]
  },
  {
   "cell_type": "code",
   "execution_count": 157,
   "id": "35aeb6a8-34d2-43b0-a0b6-86051cdae4a0",
   "metadata": {},
   "outputs": [
    {
     "data": {
      "text/html": [
       "<div>\n",
       "<style scoped>\n",
       "    .dataframe tbody tr th:only-of-type {\n",
       "        vertical-align: middle;\n",
       "    }\n",
       "\n",
       "    .dataframe tbody tr th {\n",
       "        vertical-align: top;\n",
       "    }\n",
       "\n",
       "    .dataframe thead th {\n",
       "        text-align: right;\n",
       "    }\n",
       "</style>\n",
       "<table border=\"1\" class=\"dataframe\">\n",
       "  <thead>\n",
       "    <tr style=\"text-align: right;\">\n",
       "      <th></th>\n",
       "      <th>UniProt ACC</th>\n",
       "      <th>Start</th>\n",
       "      <th>End</th>\n",
       "      <th>Reference</th>\n",
       "      <th>Length</th>\n",
       "    </tr>\n",
       "    <tr>\n",
       "      <th>DisProt entry ID</th>\n",
       "      <th></th>\n",
       "      <th></th>\n",
       "      <th></th>\n",
       "      <th></th>\n",
       "      <th></th>\n",
       "    </tr>\n",
       "  </thead>\n",
       "  <tbody>\n",
       "    <tr>\n",
       "      <th>DP00613</th>\n",
       "      <td>Q22472</td>\n",
       "      <td>1</td>\n",
       "      <td>378</td>\n",
       "      <td>pmid:19899809</td>\n",
       "      <td>378</td>\n",
       "    </tr>\n",
       "    <tr>\n",
       "      <th>DP00868</th>\n",
       "      <td>Q9NHC3</td>\n",
       "      <td>102</td>\n",
       "      <td>117</td>\n",
       "      <td>pmid:21616056</td>\n",
       "      <td>279</td>\n",
       "    </tr>\n",
       "    <tr>\n",
       "      <th>DP01090</th>\n",
       "      <td>G4SLH0</td>\n",
       "      <td>3546</td>\n",
       "      <td>3795</td>\n",
       "      <td>pmid:20346955</td>\n",
       "      <td>18562</td>\n",
       "    </tr>\n",
       "    <tr>\n",
       "      <th>DP01113</th>\n",
       "      <td>D0PV95</td>\n",
       "      <td>1</td>\n",
       "      <td>168</td>\n",
       "      <td>pmid:26015579</td>\n",
       "      <td>708</td>\n",
       "    </tr>\n",
       "    <tr>\n",
       "      <th>DP01313</th>\n",
       "      <td>Q9N4U5</td>\n",
       "      <td>163</td>\n",
       "      <td>223</td>\n",
       "      <td>pmid:27150041</td>\n",
       "      <td>547</td>\n",
       "    </tr>\n",
       "    <tr>\n",
       "      <th>DP01407</th>\n",
       "      <td>O61667</td>\n",
       "      <td>93</td>\n",
       "      <td>106</td>\n",
       "      <td>pmid:15383288</td>\n",
       "      <td>106</td>\n",
       "    </tr>\n",
       "    <tr>\n",
       "      <th>DP01436</th>\n",
       "      <td>P54936</td>\n",
       "      <td>423</td>\n",
       "      <td>487</td>\n",
       "      <td>pmid:12110687</td>\n",
       "      <td>961</td>\n",
       "    </tr>\n",
       "    <tr>\n",
       "      <th>DP01437</th>\n",
       "      <td>P90976</td>\n",
       "      <td>115</td>\n",
       "      <td>180</td>\n",
       "      <td>pmid:12110687</td>\n",
       "      <td>297</td>\n",
       "    </tr>\n",
       "    <tr>\n",
       "      <th>DP01558</th>\n",
       "      <td>Q9XTY3</td>\n",
       "      <td>17</td>\n",
       "      <td>211</td>\n",
       "      <td>pmid:22947085</td>\n",
       "      <td>211</td>\n",
       "    </tr>\n",
       "    <tr>\n",
       "      <th>DP01973</th>\n",
       "      <td>Q09514</td>\n",
       "      <td>1</td>\n",
       "      <td>18</td>\n",
       "      <td>pmid:26621324</td>\n",
       "      <td>266</td>\n",
       "    </tr>\n",
       "    <tr>\n",
       "      <th>DP02025</th>\n",
       "      <td>P30429</td>\n",
       "      <td>1</td>\n",
       "      <td>105</td>\n",
       "      <td>pmid:16208361</td>\n",
       "      <td>571</td>\n",
       "    </tr>\n",
       "    <tr>\n",
       "      <th>DP02216</th>\n",
       "      <td>Q9U3S5</td>\n",
       "      <td>1</td>\n",
       "      <td>100</td>\n",
       "      <td>pmid:30036386</td>\n",
       "      <td>1050</td>\n",
       "    </tr>\n",
       "    <tr>\n",
       "      <th>DP02313</th>\n",
       "      <td>Q8IG33</td>\n",
       "      <td>18</td>\n",
       "      <td>88</td>\n",
       "      <td>pmid:21397184</td>\n",
       "      <td>186</td>\n",
       "    </tr>\n",
       "  </tbody>\n",
       "</table>\n",
       "</div>"
      ],
      "text/plain": [
       "                 UniProt ACC  Start   End      Reference  Length\n",
       "DisProt entry ID                                                \n",
       "DP00613               Q22472      1   378  pmid:19899809     378\n",
       "DP00868               Q9NHC3    102   117  pmid:21616056     279\n",
       "DP01090               G4SLH0   3546  3795  pmid:20346955   18562\n",
       "DP01113               D0PV95      1   168  pmid:26015579     708\n",
       "DP01313               Q9N4U5    163   223  pmid:27150041     547\n",
       "DP01407               O61667     93   106  pmid:15383288     106\n",
       "DP01436               P54936    423   487  pmid:12110687     961\n",
       "DP01437               P90976    115   180  pmid:12110687     297\n",
       "DP01558               Q9XTY3     17   211  pmid:22947085     211\n",
       "DP01973               Q09514      1    18  pmid:26621324     266\n",
       "DP02025               P30429      1   105  pmid:16208361     571\n",
       "DP02216               Q9U3S5      1   100  pmid:30036386    1050\n",
       "DP02313               Q8IG33     18    88  pmid:21397184     186"
      ]
     },
     "execution_count": 157,
     "metadata": {},
     "output_type": "execute_result"
    }
   ],
   "source": [
    "data"
   ]
  },
  {
   "cell_type": "code",
   "execution_count": 159,
   "id": "35b77da9-b4b4-452d-b783-22a310ac2c12",
   "metadata": {},
   "outputs": [
    {
     "data": {
      "text/html": [
       "<div>\n",
       "<style scoped>\n",
       "    .dataframe tbody tr th:only-of-type {\n",
       "        vertical-align: middle;\n",
       "    }\n",
       "\n",
       "    .dataframe tbody tr th {\n",
       "        vertical-align: top;\n",
       "    }\n",
       "\n",
       "    .dataframe thead th {\n",
       "        text-align: right;\n",
       "    }\n",
       "</style>\n",
       "<table border=\"1\" class=\"dataframe\">\n",
       "  <thead>\n",
       "    <tr style=\"text-align: right;\">\n",
       "      <th></th>\n",
       "      <th>Start</th>\n",
       "      <th>End</th>\n",
       "      <th>Length</th>\n",
       "    </tr>\n",
       "  </thead>\n",
       "  <tbody>\n",
       "    <tr>\n",
       "      <th>count</th>\n",
       "      <td>13.000000</td>\n",
       "      <td>13.000000</td>\n",
       "      <td>13.000000</td>\n",
       "    </tr>\n",
       "    <tr>\n",
       "      <th>mean</th>\n",
       "      <td>344.769231</td>\n",
       "      <td>459.692308</td>\n",
       "      <td>1855.538462</td>\n",
       "    </tr>\n",
       "    <tr>\n",
       "      <th>std</th>\n",
       "      <td>968.988059</td>\n",
       "      <td>1010.109267</td>\n",
       "      <td>5028.345679</td>\n",
       "    </tr>\n",
       "    <tr>\n",
       "      <th>min</th>\n",
       "      <td>1.000000</td>\n",
       "      <td>18.000000</td>\n",
       "      <td>106.000000</td>\n",
       "    </tr>\n",
       "    <tr>\n",
       "      <th>25%</th>\n",
       "      <td>1.000000</td>\n",
       "      <td>105.000000</td>\n",
       "      <td>266.000000</td>\n",
       "    </tr>\n",
       "    <tr>\n",
       "      <th>50%</th>\n",
       "      <td>18.000000</td>\n",
       "      <td>168.000000</td>\n",
       "      <td>378.000000</td>\n",
       "    </tr>\n",
       "    <tr>\n",
       "      <th>75%</th>\n",
       "      <td>115.000000</td>\n",
       "      <td>223.000000</td>\n",
       "      <td>708.000000</td>\n",
       "    </tr>\n",
       "    <tr>\n",
       "      <th>max</th>\n",
       "      <td>3546.000000</td>\n",
       "      <td>3795.000000</td>\n",
       "      <td>18562.000000</td>\n",
       "    </tr>\n",
       "  </tbody>\n",
       "</table>\n",
       "</div>"
      ],
      "text/plain": [
       "             Start          End        Length\n",
       "count    13.000000    13.000000     13.000000\n",
       "mean    344.769231   459.692308   1855.538462\n",
       "std     968.988059  1010.109267   5028.345679\n",
       "min       1.000000    18.000000    106.000000\n",
       "25%       1.000000   105.000000    266.000000\n",
       "50%      18.000000   168.000000    378.000000\n",
       "75%     115.000000   223.000000    708.000000\n",
       "max    3546.000000  3795.000000  18562.000000"
      ]
     },
     "execution_count": 159,
     "metadata": {},
     "output_type": "execute_result"
    }
   ],
   "source": [
    "data.describe ()"
   ]
  },
  {
   "cell_type": "code",
   "execution_count": 165,
   "id": "960a9317-35c9-46de-ae25-4ade790967fe",
   "metadata": {},
   "outputs": [
    {
     "data": {
      "text/html": [
       "<div>\n",
       "<style scoped>\n",
       "    .dataframe tbody tr th:only-of-type {\n",
       "        vertical-align: middle;\n",
       "    }\n",
       "\n",
       "    .dataframe tbody tr th {\n",
       "        vertical-align: top;\n",
       "    }\n",
       "\n",
       "    .dataframe thead th {\n",
       "        text-align: right;\n",
       "    }\n",
       "</style>\n",
       "<table border=\"1\" class=\"dataframe\">\n",
       "  <thead>\n",
       "    <tr style=\"text-align: right;\">\n",
       "      <th></th>\n",
       "      <th>DisProt entry ID</th>\n",
       "      <th>UniProt ACC</th>\n",
       "      <th>Start</th>\n",
       "      <th>End</th>\n",
       "      <th>Reference</th>\n",
       "      <th>Length</th>\n",
       "    </tr>\n",
       "  </thead>\n",
       "  <tbody>\n",
       "    <tr>\n",
       "      <th>0</th>\n",
       "      <td>DP00342</td>\n",
       "      <td>P09883</td>\n",
       "      <td>1</td>\n",
       "      <td>83</td>\n",
       "      <td>pmid:12054823</td>\n",
       "      <td>582</td>\n",
       "    </tr>\n",
       "    <tr>\n",
       "      <th>1</th>\n",
       "      <td>DP00389</td>\n",
       "      <td>P09983</td>\n",
       "      <td>962</td>\n",
       "      <td>1023</td>\n",
       "      <td>pmid:7703231</td>\n",
       "      <td>1023</td>\n",
       "    </tr>\n",
       "    <tr>\n",
       "      <th>2</th>\n",
       "      <td>DP00461</td>\n",
       "      <td>P08083</td>\n",
       "      <td>67</td>\n",
       "      <td>90</td>\n",
       "      <td>pmid:9687368</td>\n",
       "      <td>387</td>\n",
       "    </tr>\n",
       "    <tr>\n",
       "      <th>3</th>\n",
       "      <td>DP00575</td>\n",
       "      <td>P77072</td>\n",
       "      <td>1</td>\n",
       "      <td>20</td>\n",
       "      <td>pmid:15222745</td>\n",
       "      <td>212</td>\n",
       "    </tr>\n",
       "    <tr>\n",
       "      <th>4</th>\n",
       "      <td>DP00656</td>\n",
       "      <td>P07674</td>\n",
       "      <td>1</td>\n",
       "      <td>64</td>\n",
       "      <td>pmid:20200158</td>\n",
       "      <td>358</td>\n",
       "    </tr>\n",
       "    <tr>\n",
       "      <th>5</th>\n",
       "      <td>DP00833</td>\n",
       "      <td>P22995</td>\n",
       "      <td>58</td>\n",
       "      <td>83</td>\n",
       "      <td>pmid:11743881</td>\n",
       "      <td>83</td>\n",
       "    </tr>\n",
       "    <tr>\n",
       "      <th>6</th>\n",
       "      <td>DP01201</td>\n",
       "      <td>Q47184</td>\n",
       "      <td>1</td>\n",
       "      <td>30</td>\n",
       "      <td>pmid:15943811</td>\n",
       "      <td>192</td>\n",
       "    </tr>\n",
       "  </tbody>\n",
       "</table>\n",
       "</div>"
      ],
      "text/plain": [
       "  DisProt entry ID UniProt ACC  Start   End      Reference  Length\n",
       "0          DP00342      P09883      1    83  pmid:12054823     582\n",
       "1          DP00389      P09983    962  1023   pmid:7703231    1023\n",
       "2          DP00461      P08083     67    90   pmid:9687368     387\n",
       "3          DP00575      P77072      1    20  pmid:15222745     212\n",
       "4          DP00656      P07674      1    64  pmid:20200158     358\n",
       "5          DP00833      P22995     58    83  pmid:11743881      83\n",
       "6          DP01201      Q47184      1    30  pmid:15943811     192"
      ]
     },
     "execution_count": 165,
     "metadata": {},
     "output_type": "execute_result"
    }
   ],
   "source": [
    "coli = pd.read_csv ('data/DisProt_data_Escherichia-coli.csv')\n",
    "coli"
   ]
  },
  {
   "cell_type": "code",
   "execution_count": 168,
   "id": "dd8423af-7ffc-4e57-8c09-1194b7c43d2f",
   "metadata": {},
   "outputs": [
    {
     "data": {
      "text/html": [
       "<div>\n",
       "<style scoped>\n",
       "    .dataframe tbody tr th:only-of-type {\n",
       "        vertical-align: middle;\n",
       "    }\n",
       "\n",
       "    .dataframe tbody tr th {\n",
       "        vertical-align: top;\n",
       "    }\n",
       "\n",
       "    .dataframe thead th {\n",
       "        text-align: right;\n",
       "    }\n",
       "</style>\n",
       "<table border=\"1\" class=\"dataframe\">\n",
       "  <thead>\n",
       "    <tr style=\"text-align: right;\">\n",
       "      <th></th>\n",
       "      <th>DisProt entry ID</th>\n",
       "      <th>UniProt ACC</th>\n",
       "      <th>Start</th>\n",
       "      <th>End</th>\n",
       "      <th>Reference</th>\n",
       "      <th>Length</th>\n",
       "    </tr>\n",
       "  </thead>\n",
       "  <tbody>\n",
       "    <tr>\n",
       "      <th>0</th>\n",
       "      <td>DP00342</td>\n",
       "      <td>P09883</td>\n",
       "      <td>1</td>\n",
       "      <td>83</td>\n",
       "      <td>pmid:12054823</td>\n",
       "      <td>582</td>\n",
       "    </tr>\n",
       "    <tr>\n",
       "      <th>1</th>\n",
       "      <td>DP00389</td>\n",
       "      <td>P09983</td>\n",
       "      <td>962</td>\n",
       "      <td>1023</td>\n",
       "      <td>pmid:7703231</td>\n",
       "      <td>1023</td>\n",
       "    </tr>\n",
       "    <tr>\n",
       "      <th>2</th>\n",
       "      <td>DP00461</td>\n",
       "      <td>P08083</td>\n",
       "      <td>67</td>\n",
       "      <td>90</td>\n",
       "      <td>pmid:9687368</td>\n",
       "      <td>387</td>\n",
       "    </tr>\n",
       "  </tbody>\n",
       "</table>\n",
       "</div>"
      ],
      "text/plain": [
       "  DisProt entry ID UniProt ACC  Start   End      Reference  Length\n",
       "0          DP00342      P09883      1    83  pmid:12054823     582\n",
       "1          DP00389      P09983    962  1023   pmid:7703231    1023\n",
       "2          DP00461      P08083     67    90   pmid:9687368     387"
      ]
     },
     "execution_count": 168,
     "metadata": {},
     "output_type": "execute_result"
    }
   ],
   "source": [
    "coli.head (3)"
   ]
  },
  {
   "cell_type": "code",
   "execution_count": 169,
   "id": "7fa92cb2-3eb5-4577-af4a-af9ec0eb91a6",
   "metadata": {},
   "outputs": [
    {
     "data": {
      "text/html": [
       "<div>\n",
       "<style scoped>\n",
       "    .dataframe tbody tr th:only-of-type {\n",
       "        vertical-align: middle;\n",
       "    }\n",
       "\n",
       "    .dataframe tbody tr th {\n",
       "        vertical-align: top;\n",
       "    }\n",
       "\n",
       "    .dataframe thead th {\n",
       "        text-align: right;\n",
       "    }\n",
       "</style>\n",
       "<table border=\"1\" class=\"dataframe\">\n",
       "  <thead>\n",
       "    <tr style=\"text-align: right;\">\n",
       "      <th></th>\n",
       "      <th>DisProt entry ID</th>\n",
       "      <th>UniProt ACC</th>\n",
       "      <th>Start</th>\n",
       "      <th>End</th>\n",
       "      <th>Reference</th>\n",
       "      <th>Length</th>\n",
       "    </tr>\n",
       "  </thead>\n",
       "  <tbody>\n",
       "    <tr>\n",
       "      <th>4</th>\n",
       "      <td>DP00656</td>\n",
       "      <td>P07674</td>\n",
       "      <td>1</td>\n",
       "      <td>64</td>\n",
       "      <td>pmid:20200158</td>\n",
       "      <td>358</td>\n",
       "    </tr>\n",
       "    <tr>\n",
       "      <th>5</th>\n",
       "      <td>DP00833</td>\n",
       "      <td>P22995</td>\n",
       "      <td>58</td>\n",
       "      <td>83</td>\n",
       "      <td>pmid:11743881</td>\n",
       "      <td>83</td>\n",
       "    </tr>\n",
       "    <tr>\n",
       "      <th>6</th>\n",
       "      <td>DP01201</td>\n",
       "      <td>Q47184</td>\n",
       "      <td>1</td>\n",
       "      <td>30</td>\n",
       "      <td>pmid:15943811</td>\n",
       "      <td>192</td>\n",
       "    </tr>\n",
       "  </tbody>\n",
       "</table>\n",
       "</div>"
      ],
      "text/plain": [
       "  DisProt entry ID UniProt ACC  Start  End      Reference  Length\n",
       "4          DP00656      P07674      1   64  pmid:20200158     358\n",
       "5          DP00833      P22995     58   83  pmid:11743881      83\n",
       "6          DP01201      Q47184      1   30  pmid:15943811     192"
      ]
     },
     "execution_count": 169,
     "metadata": {},
     "output_type": "execute_result"
    }
   ],
   "source": [
    "coli.tail (3)"
   ]
  },
  {
   "cell_type": "code",
   "execution_count": 58,
   "id": "d0eb32ac-7641-4a8d-9c5a-885a811795b4",
   "metadata": {},
   "outputs": [
    {
     "data": {
      "text/html": [
       "<div>\n",
       "<style scoped>\n",
       "    .dataframe tbody tr th:only-of-type {\n",
       "        vertical-align: middle;\n",
       "    }\n",
       "\n",
       "    .dataframe tbody tr th {\n",
       "        vertical-align: top;\n",
       "    }\n",
       "\n",
       "    .dataframe thead th {\n",
       "        text-align: right;\n",
       "    }\n",
       "</style>\n",
       "<table border=\"1\" class=\"dataframe\">\n",
       "  <thead>\n",
       "    <tr style=\"text-align: right;\">\n",
       "      <th></th>\n",
       "      <th>DisProt entry ID</th>\n",
       "      <th>Start</th>\n",
       "      <th>End</th>\n",
       "      <th>Reference</th>\n",
       "      <th>Length</th>\n",
       "    </tr>\n",
       "    <tr>\n",
       "      <th>UniProt ACC</th>\n",
       "      <th></th>\n",
       "      <th></th>\n",
       "      <th></th>\n",
       "      <th></th>\n",
       "      <th></th>\n",
       "    </tr>\n",
       "  </thead>\n",
       "  <tbody>\n",
       "    <tr>\n",
       "      <th>Q22472</th>\n",
       "      <td>DP00613</td>\n",
       "      <td>1</td>\n",
       "      <td>378</td>\n",
       "      <td>pmid:19899809</td>\n",
       "      <td>378</td>\n",
       "    </tr>\n",
       "    <tr>\n",
       "      <th>Q9NHC3</th>\n",
       "      <td>DP00868</td>\n",
       "      <td>102</td>\n",
       "      <td>117</td>\n",
       "      <td>pmid:21616056</td>\n",
       "      <td>279</td>\n",
       "    </tr>\n",
       "    <tr>\n",
       "      <th>G4SLH0</th>\n",
       "      <td>DP01090</td>\n",
       "      <td>3546</td>\n",
       "      <td>3795</td>\n",
       "      <td>pmid:20346955</td>\n",
       "      <td>18562</td>\n",
       "    </tr>\n",
       "    <tr>\n",
       "      <th>D0PV95</th>\n",
       "      <td>DP01113</td>\n",
       "      <td>1</td>\n",
       "      <td>168</td>\n",
       "      <td>pmid:26015579</td>\n",
       "      <td>708</td>\n",
       "    </tr>\n",
       "    <tr>\n",
       "      <th>Q9N4U5</th>\n",
       "      <td>DP01313</td>\n",
       "      <td>163</td>\n",
       "      <td>223</td>\n",
       "      <td>pmid:27150041</td>\n",
       "      <td>547</td>\n",
       "    </tr>\n",
       "    <tr>\n",
       "      <th>O61667</th>\n",
       "      <td>DP01407</td>\n",
       "      <td>93</td>\n",
       "      <td>106</td>\n",
       "      <td>pmid:15383288</td>\n",
       "      <td>106</td>\n",
       "    </tr>\n",
       "    <tr>\n",
       "      <th>P54936</th>\n",
       "      <td>DP01436</td>\n",
       "      <td>423</td>\n",
       "      <td>487</td>\n",
       "      <td>pmid:12110687</td>\n",
       "      <td>961</td>\n",
       "    </tr>\n",
       "    <tr>\n",
       "      <th>P90976</th>\n",
       "      <td>DP01437</td>\n",
       "      <td>115</td>\n",
       "      <td>180</td>\n",
       "      <td>pmid:12110687</td>\n",
       "      <td>297</td>\n",
       "    </tr>\n",
       "    <tr>\n",
       "      <th>Q9XTY3</th>\n",
       "      <td>DP01558</td>\n",
       "      <td>17</td>\n",
       "      <td>211</td>\n",
       "      <td>pmid:22947085</td>\n",
       "      <td>211</td>\n",
       "    </tr>\n",
       "    <tr>\n",
       "      <th>Q09514</th>\n",
       "      <td>DP01973</td>\n",
       "      <td>1</td>\n",
       "      <td>18</td>\n",
       "      <td>pmid:26621324</td>\n",
       "      <td>266</td>\n",
       "    </tr>\n",
       "    <tr>\n",
       "      <th>P30429</th>\n",
       "      <td>DP02025</td>\n",
       "      <td>1</td>\n",
       "      <td>105</td>\n",
       "      <td>pmid:16208361</td>\n",
       "      <td>571</td>\n",
       "    </tr>\n",
       "    <tr>\n",
       "      <th>Q9U3S5</th>\n",
       "      <td>DP02216</td>\n",
       "      <td>1</td>\n",
       "      <td>100</td>\n",
       "      <td>pmid:30036386</td>\n",
       "      <td>1050</td>\n",
       "    </tr>\n",
       "    <tr>\n",
       "      <th>Q8IG33</th>\n",
       "      <td>DP02313</td>\n",
       "      <td>18</td>\n",
       "      <td>88</td>\n",
       "      <td>pmid:21397184</td>\n",
       "      <td>186</td>\n",
       "    </tr>\n",
       "  </tbody>\n",
       "</table>\n",
       "</div>"
      ],
      "text/plain": [
       "            DisProt entry ID  Start   End      Reference  Length\n",
       "UniProt ACC                                                     \n",
       "Q22472               DP00613      1   378  pmid:19899809     378\n",
       "Q9NHC3               DP00868    102   117  pmid:21616056     279\n",
       "G4SLH0               DP01090   3546  3795  pmid:20346955   18562\n",
       "D0PV95               DP01113      1   168  pmid:26015579     708\n",
       "Q9N4U5               DP01313    163   223  pmid:27150041     547\n",
       "O61667               DP01407     93   106  pmid:15383288     106\n",
       "P54936               DP01436    423   487  pmid:12110687     961\n",
       "P90976               DP01437    115   180  pmid:12110687     297\n",
       "Q9XTY3               DP01558     17   211  pmid:22947085     211\n",
       "Q09514               DP01973      1    18  pmid:26621324     266\n",
       "P30429               DP02025      1   105  pmid:16208361     571\n",
       "Q9U3S5               DP02216      1   100  pmid:30036386    1050\n",
       "Q8IG33               DP02313     18    88  pmid:21397184     186"
      ]
     },
     "execution_count": 58,
     "metadata": {},
     "output_type": "execute_result"
    }
   ],
   "source": [
    "import pandas as pd\n",
    "data = pd.read_csv ('data/DisProt_data_Caenorhabditis-elegans.csv', index_col = 'UniProt ACC')\n",
    "data"
   ]
  },
  {
   "cell_type": "code",
   "execution_count": 59,
   "id": "ba378a12-8535-4084-8b34-48f2f4a556c5",
   "metadata": {},
   "outputs": [
    {
     "data": {
      "text/plain": [
       "UniProt ACC\n",
       "Q22472    False\n",
       "Q9NHC3    False\n",
       "G4SLH0     True\n",
       "D0PV95    False\n",
       "Q9N4U5    False\n",
       "O61667    False\n",
       "P54936    False\n",
       "P90976    False\n",
       "Q9XTY3    False\n",
       "Q09514    False\n",
       "P30429    False\n",
       "Q9U3S5    False\n",
       "Q8IG33    False\n",
       "Name: Length, dtype: bool"
      ]
     },
     "execution_count": 59,
     "metadata": {},
     "output_type": "execute_result"
    }
   ],
   "source": [
    "data_length = data.loc [:, \"Length\"]\n",
    "mean_length = data_length.mean ()\n",
    "data_length > mean_length"
   ]
  },
  {
   "cell_type": "code",
   "execution_count": 60,
   "id": "4db1a3e1-5c64-45bb-9480-0993a6cec37a",
   "metadata": {},
   "outputs": [
    {
     "data": {
      "text/plain": [
       "UniProt ACC\n",
       "Q22472    False\n",
       "Q9NHC3    False\n",
       "G4SLH0     True\n",
       "D0PV95    False\n",
       "Q9N4U5    False\n",
       "O61667    False\n",
       "P54936    False\n",
       "P90976    False\n",
       "Q9XTY3    False\n",
       "Q09514    False\n",
       "P30429    False\n",
       "Q9U3S5    False\n",
       "Q8IG33    False\n",
       "Name: Length, dtype: bool"
      ]
     },
     "execution_count": 60,
     "metadata": {},
     "output_type": "execute_result"
    }
   ],
   "source": [
    "mask_higher = data.loc [:, \"Length\"] > data.loc [:, \"Length\"].mean ()\n",
    "mask_higher"
   ]
  },
  {
   "cell_type": "code",
   "execution_count": 61,
   "id": "a62d1b6c-156f-4f8b-9a4a-216e54ceff78",
   "metadata": {},
   "outputs": [],
   "source": [
    "new_data = data.drop(\"G4SLH0\")"
   ]
  },
  {
   "cell_type": "code",
   "execution_count": 62,
   "id": "635f07e9-65ae-4496-8765-a5b944071428",
   "metadata": {},
   "outputs": [
    {
     "data": {
      "text/html": [
       "<div>\n",
       "<style scoped>\n",
       "    .dataframe tbody tr th:only-of-type {\n",
       "        vertical-align: middle;\n",
       "    }\n",
       "\n",
       "    .dataframe tbody tr th {\n",
       "        vertical-align: top;\n",
       "    }\n",
       "\n",
       "    .dataframe thead th {\n",
       "        text-align: right;\n",
       "    }\n",
       "</style>\n",
       "<table border=\"1\" class=\"dataframe\">\n",
       "  <thead>\n",
       "    <tr style=\"text-align: right;\">\n",
       "      <th></th>\n",
       "      <th>DisProt entry ID</th>\n",
       "      <th>Start</th>\n",
       "      <th>End</th>\n",
       "      <th>Reference</th>\n",
       "      <th>Length</th>\n",
       "    </tr>\n",
       "    <tr>\n",
       "      <th>UniProt ACC</th>\n",
       "      <th></th>\n",
       "      <th></th>\n",
       "      <th></th>\n",
       "      <th></th>\n",
       "      <th></th>\n",
       "    </tr>\n",
       "  </thead>\n",
       "  <tbody>\n",
       "    <tr>\n",
       "      <th>Q22472</th>\n",
       "      <td>DP00613</td>\n",
       "      <td>1</td>\n",
       "      <td>378</td>\n",
       "      <td>pmid:19899809</td>\n",
       "      <td>378</td>\n",
       "    </tr>\n",
       "    <tr>\n",
       "      <th>Q9NHC3</th>\n",
       "      <td>DP00868</td>\n",
       "      <td>102</td>\n",
       "      <td>117</td>\n",
       "      <td>pmid:21616056</td>\n",
       "      <td>279</td>\n",
       "    </tr>\n",
       "    <tr>\n",
       "      <th>D0PV95</th>\n",
       "      <td>DP01113</td>\n",
       "      <td>1</td>\n",
       "      <td>168</td>\n",
       "      <td>pmid:26015579</td>\n",
       "      <td>708</td>\n",
       "    </tr>\n",
       "    <tr>\n",
       "      <th>Q9N4U5</th>\n",
       "      <td>DP01313</td>\n",
       "      <td>163</td>\n",
       "      <td>223</td>\n",
       "      <td>pmid:27150041</td>\n",
       "      <td>547</td>\n",
       "    </tr>\n",
       "    <tr>\n",
       "      <th>O61667</th>\n",
       "      <td>DP01407</td>\n",
       "      <td>93</td>\n",
       "      <td>106</td>\n",
       "      <td>pmid:15383288</td>\n",
       "      <td>106</td>\n",
       "    </tr>\n",
       "    <tr>\n",
       "      <th>P54936</th>\n",
       "      <td>DP01436</td>\n",
       "      <td>423</td>\n",
       "      <td>487</td>\n",
       "      <td>pmid:12110687</td>\n",
       "      <td>961</td>\n",
       "    </tr>\n",
       "    <tr>\n",
       "      <th>P90976</th>\n",
       "      <td>DP01437</td>\n",
       "      <td>115</td>\n",
       "      <td>180</td>\n",
       "      <td>pmid:12110687</td>\n",
       "      <td>297</td>\n",
       "    </tr>\n",
       "    <tr>\n",
       "      <th>Q9XTY3</th>\n",
       "      <td>DP01558</td>\n",
       "      <td>17</td>\n",
       "      <td>211</td>\n",
       "      <td>pmid:22947085</td>\n",
       "      <td>211</td>\n",
       "    </tr>\n",
       "    <tr>\n",
       "      <th>Q09514</th>\n",
       "      <td>DP01973</td>\n",
       "      <td>1</td>\n",
       "      <td>18</td>\n",
       "      <td>pmid:26621324</td>\n",
       "      <td>266</td>\n",
       "    </tr>\n",
       "    <tr>\n",
       "      <th>P30429</th>\n",
       "      <td>DP02025</td>\n",
       "      <td>1</td>\n",
       "      <td>105</td>\n",
       "      <td>pmid:16208361</td>\n",
       "      <td>571</td>\n",
       "    </tr>\n",
       "    <tr>\n",
       "      <th>Q9U3S5</th>\n",
       "      <td>DP02216</td>\n",
       "      <td>1</td>\n",
       "      <td>100</td>\n",
       "      <td>pmid:30036386</td>\n",
       "      <td>1050</td>\n",
       "    </tr>\n",
       "    <tr>\n",
       "      <th>Q8IG33</th>\n",
       "      <td>DP02313</td>\n",
       "      <td>18</td>\n",
       "      <td>88</td>\n",
       "      <td>pmid:21397184</td>\n",
       "      <td>186</td>\n",
       "    </tr>\n",
       "  </tbody>\n",
       "</table>\n",
       "</div>"
      ],
      "text/plain": [
       "            DisProt entry ID  Start  End      Reference  Length\n",
       "UniProt ACC                                                    \n",
       "Q22472               DP00613      1  378  pmid:19899809     378\n",
       "Q9NHC3               DP00868    102  117  pmid:21616056     279\n",
       "D0PV95               DP01113      1  168  pmid:26015579     708\n",
       "Q9N4U5               DP01313    163  223  pmid:27150041     547\n",
       "O61667               DP01407     93  106  pmid:15383288     106\n",
       "P54936               DP01436    423  487  pmid:12110687     961\n",
       "P90976               DP01437    115  180  pmid:12110687     297\n",
       "Q9XTY3               DP01558     17  211  pmid:22947085     211\n",
       "Q09514               DP01973      1   18  pmid:26621324     266\n",
       "P30429               DP02025      1  105  pmid:16208361     571\n",
       "Q9U3S5               DP02216      1  100  pmid:30036386    1050\n",
       "Q8IG33               DP02313     18   88  pmid:21397184     186"
      ]
     },
     "execution_count": 62,
     "metadata": {},
     "output_type": "execute_result"
    }
   ],
   "source": [
    "new_data"
   ]
  },
  {
   "cell_type": "code",
   "execution_count": 67,
   "id": "d0b25c95-b1b5-4077-9c00-4d71b1de4918",
   "metadata": {},
   "outputs": [
    {
     "data": {
      "text/plain": [
       "UniProt ACC\n",
       "Q22472     378\n",
       "Q9NHC3     279\n",
       "D0PV95     708\n",
       "Q9N4U5     547\n",
       "O61667     106\n",
       "P54936     961\n",
       "P90976     297\n",
       "Q9XTY3     211\n",
       "Q09514     266\n",
       "P30429     571\n",
       "Q9U3S5    1050\n",
       "Q8IG33     186\n",
       "Name: Length, dtype: int64"
      ]
     },
     "execution_count": 67,
     "metadata": {},
     "output_type": "execute_result"
    }
   ],
   "source": [
    "new_data [\"Length\"]"
   ]
  },
  {
   "cell_type": "code",
   "execution_count": 112,
   "id": "6d887afa-afbd-424e-b4d7-e037376a144b",
   "metadata": {},
   "outputs": [
    {
     "data": {
      "text/plain": [
       "DisProt entry ID\n",
       "DP00613       1\n",
       "DP00868     102\n",
       "DP01090    3546\n",
       "DP01113       1\n",
       "DP01313     163\n",
       "DP01407      93\n",
       "DP01436     423\n",
       "DP01437     115\n",
       "DP01558      17\n",
       "DP01973       1\n",
       "DP02025       1\n",
       "DP02216       1\n",
       "DP02313      18\n",
       "Name: Start, dtype: int64"
      ]
     },
     "execution_count": 112,
     "metadata": {},
     "output_type": "execute_result"
    }
   ],
   "source": [
    "# Set data index to DisProt entry ID\n",
    "\n",
    "new_data2 =  pd.read_csv ('data/DisProt_data_Caenorhabditis-elegans.csv', index_col = 'DisProt entry ID')\n",
    "\n",
    "# sort by start\n",
    "\n",
    "data_start = new_data2 [\"Start\"]\n",
    "\n",
    "data_start"
   ]
  },
  {
   "cell_type": "code",
   "execution_count": 113,
   "id": "68e45531-a8cd-4253-a2f5-f73f0c97b469",
   "metadata": {},
   "outputs": [
    {
     "data": {
      "text/plain": [
       "UniProt ACC           Q22472\n",
       "Start                      1\n",
       "End                      378\n",
       "Reference      pmid:19899809\n",
       "Length                   378\n",
       "Name: DP00613, dtype: object"
      ]
     },
     "execution_count": 113,
     "metadata": {},
     "output_type": "execute_result"
    }
   ],
   "source": [
    "# Only display DP00613\n",
    "\n",
    "DP = new_data2.loc [\"DP00613\"]\n",
    "\n",
    "DP"
   ]
  },
  {
   "cell_type": "code",
   "execution_count": 115,
   "id": "8517f6be-9725-49a7-ac7e-89f63adfd27c",
   "metadata": {},
   "outputs": [
    {
     "data": {
      "text/plain": [
       "DisProt entry ID\n",
       "DP00613     True\n",
       "DP00868     True\n",
       "DP01090     True\n",
       "DP01113     True\n",
       "DP01313     True\n",
       "DP01407    False\n",
       "DP01436     True\n",
       "DP01437     True\n",
       "DP01558     True\n",
       "DP01973     True\n",
       "DP02025     True\n",
       "DP02216     True\n",
       "DP02313     True\n",
       "Name: Length, dtype: bool"
      ]
     },
     "execution_count": 115,
     "metadata": {},
     "output_type": "execute_result"
    }
   ],
   "source": [
    "#sort all above Length 150\n",
    "\n",
    "data150 = new_data2 [\"Length\"] > 150\n",
    "\n",
    "data150"
   ]
  },
  {
   "cell_type": "code",
   "execution_count": 116,
   "id": "8f1d5bc0-7f9e-4d8c-bfdf-994da113a86b",
   "metadata": {},
   "outputs": [
    {
     "data": {
      "text/html": [
       "<div>\n",
       "<style scoped>\n",
       "    .dataframe tbody tr th:only-of-type {\n",
       "        vertical-align: middle;\n",
       "    }\n",
       "\n",
       "    .dataframe tbody tr th {\n",
       "        vertical-align: top;\n",
       "    }\n",
       "\n",
       "    .dataframe thead th {\n",
       "        text-align: right;\n",
       "    }\n",
       "</style>\n",
       "<table border=\"1\" class=\"dataframe\">\n",
       "  <thead>\n",
       "    <tr style=\"text-align: right;\">\n",
       "      <th></th>\n",
       "      <th>UniProt ACC</th>\n",
       "      <th>Start</th>\n",
       "      <th>End</th>\n",
       "      <th>Reference</th>\n",
       "      <th>Length</th>\n",
       "    </tr>\n",
       "    <tr>\n",
       "      <th>DisProt entry ID</th>\n",
       "      <th></th>\n",
       "      <th></th>\n",
       "      <th></th>\n",
       "      <th></th>\n",
       "      <th></th>\n",
       "    </tr>\n",
       "  </thead>\n",
       "  <tbody>\n",
       "    <tr>\n",
       "      <th>DP00613</th>\n",
       "      <td>Q22472</td>\n",
       "      <td>1</td>\n",
       "      <td>378</td>\n",
       "      <td>pmid:19899809</td>\n",
       "      <td>378</td>\n",
       "    </tr>\n",
       "    <tr>\n",
       "      <th>DP00868</th>\n",
       "      <td>Q9NHC3</td>\n",
       "      <td>102</td>\n",
       "      <td>117</td>\n",
       "      <td>pmid:21616056</td>\n",
       "      <td>279</td>\n",
       "    </tr>\n",
       "    <tr>\n",
       "      <th>DP01090</th>\n",
       "      <td>G4SLH0</td>\n",
       "      <td>3546</td>\n",
       "      <td>3795</td>\n",
       "      <td>pmid:20346955</td>\n",
       "      <td>18562</td>\n",
       "    </tr>\n",
       "    <tr>\n",
       "      <th>DP01113</th>\n",
       "      <td>D0PV95</td>\n",
       "      <td>1</td>\n",
       "      <td>168</td>\n",
       "      <td>pmid:26015579</td>\n",
       "      <td>708</td>\n",
       "    </tr>\n",
       "    <tr>\n",
       "      <th>DP01313</th>\n",
       "      <td>Q9N4U5</td>\n",
       "      <td>163</td>\n",
       "      <td>223</td>\n",
       "      <td>pmid:27150041</td>\n",
       "      <td>547</td>\n",
       "    </tr>\n",
       "    <tr>\n",
       "      <th>DP01436</th>\n",
       "      <td>P54936</td>\n",
       "      <td>423</td>\n",
       "      <td>487</td>\n",
       "      <td>pmid:12110687</td>\n",
       "      <td>961</td>\n",
       "    </tr>\n",
       "    <tr>\n",
       "      <th>DP01437</th>\n",
       "      <td>P90976</td>\n",
       "      <td>115</td>\n",
       "      <td>180</td>\n",
       "      <td>pmid:12110687</td>\n",
       "      <td>297</td>\n",
       "    </tr>\n",
       "    <tr>\n",
       "      <th>DP01558</th>\n",
       "      <td>Q9XTY3</td>\n",
       "      <td>17</td>\n",
       "      <td>211</td>\n",
       "      <td>pmid:22947085</td>\n",
       "      <td>211</td>\n",
       "    </tr>\n",
       "    <tr>\n",
       "      <th>DP01973</th>\n",
       "      <td>Q09514</td>\n",
       "      <td>1</td>\n",
       "      <td>18</td>\n",
       "      <td>pmid:26621324</td>\n",
       "      <td>266</td>\n",
       "    </tr>\n",
       "    <tr>\n",
       "      <th>DP02025</th>\n",
       "      <td>P30429</td>\n",
       "      <td>1</td>\n",
       "      <td>105</td>\n",
       "      <td>pmid:16208361</td>\n",
       "      <td>571</td>\n",
       "    </tr>\n",
       "    <tr>\n",
       "      <th>DP02216</th>\n",
       "      <td>Q9U3S5</td>\n",
       "      <td>1</td>\n",
       "      <td>100</td>\n",
       "      <td>pmid:30036386</td>\n",
       "      <td>1050</td>\n",
       "    </tr>\n",
       "    <tr>\n",
       "      <th>DP02313</th>\n",
       "      <td>Q8IG33</td>\n",
       "      <td>18</td>\n",
       "      <td>88</td>\n",
       "      <td>pmid:21397184</td>\n",
       "      <td>186</td>\n",
       "    </tr>\n",
       "  </tbody>\n",
       "</table>\n",
       "</div>"
      ],
      "text/plain": [
       "                 UniProt ACC  Start   End      Reference  Length\n",
       "DisProt entry ID                                                \n",
       "DP00613               Q22472      1   378  pmid:19899809     378\n",
       "DP00868               Q9NHC3    102   117  pmid:21616056     279\n",
       "DP01090               G4SLH0   3546  3795  pmid:20346955   18562\n",
       "DP01113               D0PV95      1   168  pmid:26015579     708\n",
       "DP01313               Q9N4U5    163   223  pmid:27150041     547\n",
       "DP01436               P54936    423   487  pmid:12110687     961\n",
       "DP01437               P90976    115   180  pmid:12110687     297\n",
       "DP01558               Q9XTY3     17   211  pmid:22947085     211\n",
       "DP01973               Q09514      1    18  pmid:26621324     266\n",
       "DP02025               P30429      1   105  pmid:16208361     571\n",
       "DP02216               Q9U3S5      1   100  pmid:30036386    1050\n",
       "DP02313               Q8IG33     18    88  pmid:21397184     186"
      ]
     },
     "execution_count": 116,
     "metadata": {},
     "output_type": "execute_result"
    }
   ],
   "source": [
    "#select only data with Length above 150\n",
    "\n",
    "Length_150 = new_data2 [new_data2 [\"Length\"] > 150]\n",
    "\n",
    "Length_150"
   ]
  },
  {
   "cell_type": "code",
   "execution_count": 117,
   "id": "3ec29f54-42b0-4a08-bee3-d5fb806ba8b7",
   "metadata": {},
   "outputs": [
    {
     "data": {
      "text/plain": [
       "DisProt entry ID\n",
       "DP00613    Q22472\n",
       "DP00868    Q9NHC3\n",
       "DP01090    G4SLH0\n",
       "DP01113    D0PV95\n",
       "DP01313    Q9N4U5\n",
       "DP01436    P54936\n",
       "DP01437    P90976\n",
       "DP01558    Q9XTY3\n",
       "DP01973    Q09514\n",
       "DP02025    P30429\n",
       "DP02216    Q9U3S5\n",
       "DP02313    Q8IG33\n",
       "Name: UniProt ACC, dtype: object"
      ]
     },
     "execution_count": 117,
     "metadata": {},
     "output_type": "execute_result"
    }
   ],
   "source": [
    "#select UniProt ACC of all with length above 150\n",
    "\n",
    "Length150ACC = Length_150 [\"UniProt ACC\"]\n",
    "\n",
    "Length150ACC"
   ]
  },
  {
   "cell_type": "code",
   "execution_count": 122,
   "id": "1a284781-056b-47d1-b812-39180a316756",
   "metadata": {},
   "outputs": [
    {
     "data": {
      "text/plain": [
       "[0.27, 0.25, 0.278]"
      ]
     },
     "execution_count": 122,
     "metadata": {},
     "output_type": "execute_result"
    }
   ],
   "source": [
    "#create a variable\n",
    "\n",
    "pressure = [0.27, 0.25, 0.278]\n",
    "pressure"
   ]
  },
  {
   "cell_type": "code",
   "execution_count": 123,
   "id": "65c26c86-9c67-457c-a7ae-f1d0d0fc6d56",
   "metadata": {},
   "outputs": [
    {
     "data": {
      "text/plain": [
       "3"
      ]
     },
     "execution_count": 123,
     "metadata": {},
     "output_type": "execute_result"
    }
   ],
   "source": [
    "# count amount in container\n",
    "\n",
    "len(pressure)"
   ]
  },
  {
   "cell_type": "code",
   "execution_count": 127,
   "id": "b351b106-2cd8-42c1-9a1b-cc597ff0a2fd",
   "metadata": {},
   "outputs": [
    {
     "ename": "IndexError",
     "evalue": "list assignment index out of range",
     "output_type": "error",
     "traceback": [
      "\u001b[1;31m---------------------------------------------------------------------------\u001b[0m",
      "\u001b[1;31mIndexError\u001b[0m                                Traceback (most recent call last)",
      "\u001b[1;32m<ipython-input-127-e555ec785172>\u001b[0m in \u001b[0;36m<module>\u001b[1;34m\u001b[0m\n\u001b[0;32m      1\u001b[0m \u001b[1;31m# delete position nr 1\u001b[0m\u001b[1;33m\u001b[0m\u001b[1;33m\u001b[0m\u001b[1;33m\u001b[0m\u001b[0m\n\u001b[0;32m      2\u001b[0m \u001b[1;33m\u001b[0m\u001b[0m\n\u001b[1;32m----> 3\u001b[1;33m \u001b[1;32mdel\u001b[0m \u001b[0mpressure\u001b[0m \u001b[1;33m[\u001b[0m\u001b[1;36m1\u001b[0m\u001b[1;33m]\u001b[0m\u001b[1;33m\u001b[0m\u001b[1;33m\u001b[0m\u001b[0m\n\u001b[0m\u001b[0;32m      4\u001b[0m \u001b[0mpressure\u001b[0m\u001b[1;33m\u001b[0m\u001b[1;33m\u001b[0m\u001b[0m\n",
      "\u001b[1;31mIndexError\u001b[0m: list assignment index out of range"
     ]
    }
   ],
   "source": [
    "# delete position nr 1\n",
    "\n",
    "del pressure [1]\n",
    "pressure"
   ]
  },
  {
   "cell_type": "code",
   "execution_count": 129,
   "id": "e9fcb39c-cbce-4246-8788-7ede155b0c16",
   "metadata": {},
   "outputs": [
    {
     "name": "stdout",
     "output_type": "stream",
     "text": [
      "1\n",
      "2\n",
      "3\n",
      "4\n"
     ]
    }
   ],
   "source": [
    "# Number is value at each step\n",
    "\n",
    "pressure = [1, 2, 3, 4]\n",
    "for number in pressure:\n",
    "    print(number)"
   ]
  },
  {
   "cell_type": "code",
   "execution_count": 135,
   "id": "049a9088-a85e-489c-adc6-b01a958493de",
   "metadata": {},
   "outputs": [
    {
     "name": "stdout",
     "output_type": "stream",
     "text": [
      "Niels Lars Fritsma\n"
     ]
    }
   ],
   "source": [
    "FirstName = \"Niels\"\n",
    "SecondName = \"Lars\"\n",
    "FamilyName = \"Fritsma\"\n",
    "print (FirstName, SecondName, FamilyName)"
   ]
  },
  {
   "cell_type": "code",
   "execution_count": 136,
   "id": "3568b6b4-4d14-4926-951a-0a188533be69",
   "metadata": {},
   "outputs": [
    {
     "name": "stdout",
     "output_type": "stream",
     "text": [
      "2 4 8\n",
      "3 9 27\n",
      "5 25 125\n"
     ]
    }
   ],
   "source": [
    "prime = [2, 3, 5]\n",
    "for p in prime:\n",
    "    squared = p**2\n",
    "    cubed = p**3\n",
    "    print (p, squared, cubed)"
   ]
  },
  {
   "cell_type": "code",
   "execution_count": 137,
   "id": "efd8293f-b70a-404e-aa2b-1e3aed5db4b1",
   "metadata": {},
   "outputs": [
    {
     "name": "stdout",
     "output_type": "stream",
     "text": [
      "0\n",
      "1\n",
      "2\n"
     ]
    }
   ],
   "source": [
    "for n in range (0, 3):\n",
    "    print (n)"
   ]
  },
  {
   "cell_type": "code",
   "execution_count": 147,
   "id": "93c9c597-6626-4d3e-8b9f-53a79ab6d89e",
   "metadata": {},
   "outputs": [
    {
     "name": "stdout",
     "output_type": "stream",
     "text": [
      "total 1\n",
      "char t\n",
      "total 2\n",
      "char i\n",
      "total 3\n",
      "char n\n",
      "________________________--\n",
      "3\n"
     ]
    }
   ],
   "source": [
    "total = 0\n",
    "for char in \"tin\":\n",
    "    total = total + 1\n",
    "    print(\"total\", total)\n",
    "    print ('char', char)\n",
    "\n",
    "print(\"________________________--\")\n",
    "print(total)"
   ]
  },
  {
   "cell_type": "code",
   "execution_count": 157,
   "id": "b3c789ef-36c1-47c9-8a96-7e6697e45ae6",
   "metadata": {},
   "outputs": [
    {
     "name": "stdout",
     "output_type": "stream",
     "text": [
      "([<matplotlib.lines.Line2D object at 0x00000158526E7F70>], Text(0.5, 0, 'residue position'), Text(0, 0.5, 'disorder prediction'), Text(0.5, 1.0, 'My meaningful Title')) (<BarContainer object of 4 artists>, Text(0.5, 0, 'residue position'), Text(0, 0.5, 'disorder prediction'), Text(0.5, 1.0, 'My meaningful Title'))\n"
     ]
    },
    {
     "data": {
      "image/png": "[encoded data removed]",
      "text/plain": [
       "<Figure size 432x288 with 1 Axes>"
      ]
     },
     "metadata": {
      "needs_background": "light"
     },
     "output_type": "display_data"
    }
   ],
   "source": [
    "import matplotlib.pyplot as plt\n",
    "res_position = [0, 1, 2, 3]\n",
    "dis_prediction = [0.31, 0.44, 0.8, 0.62]\n",
    "\n",
    "# create a plot\n",
    "\n",
    "plot1 = plt.plot (res_position, dis_prediction), plt.xlabel (\"residue position\"), plt.ylabel (\"disorder prediction\"), plt.title (\"My meaningful Title\")\n",
    "\n",
    "# create a bar graph\n",
    "\n",
    "bar1 = plt.bar (res_position, dis_prediction), plt.xlabel (\"residue position\"), plt.ylabel (\"disorder prediction\"), plt.title (\"My meaningful Title\")"
   ]
  },
  {
   "cell_type": "code",
   "execution_count": 166,
   "id": "ce66fcbd-06a1-4371-84b9-052c4683ba70",
   "metadata": {},
   "outputs": [
    {
     "data": {
      "text/plain": [
       "<AxesSubplot:xlabel='UniProt ACC'>"
      ]
     },
     "execution_count": 166,
     "metadata": {},
     "output_type": "execute_result"
    },
    {
     "data": {
      "image/png": "[encoded data removed]",
      "text/plain": [
       "<Figure size 432x288 with 1 Axes>"
      ]
     },
     "metadata": {
      "needs_background": "light"
     },
     "output_type": "display_data"
    }
   ],
   "source": [
    "data = pd.read_csv ('data/DisProt_data_Caenorhabditis-elegans.csv', index_col = 'UniProt ACC')\n",
    "\n",
    "data[\"Length\"].plot ()"
   ]
  },
  {
   "cell_type": "code",
   "execution_count": 177,
   "id": "2d0d9648-b585-4e38-9fa3-aeb1edda3b9c",
   "metadata": {},
   "outputs": [
    {
     "data": {
      "text/plain": [
       "<AxesSubplot:>"
      ]
     },
     "execution_count": 177,
     "metadata": {},
     "output_type": "execute_result"
    },
    {
     "data": {
      "image/png": "[encoded data removed]",
      "text/plain": [
       "<Figure size 432x288 with 1 Axes>"
      ]
     },
     "metadata": {
      "needs_background": "light"
     },
     "output_type": "display_data"
    }
   ],
   "source": [
    "data2 = pd.read_csv (\"data/DisProt_and_pred_IDcontent.csv\", index_col=[0])\n",
    "data2[\"DisProt\"].head (20).plot.bar()"
   ]
  },
  {
   "cell_type": "code",
   "execution_count": 187,
   "id": "e6b0136f-dd4a-46d9-95c8-858c36615ed8",
   "metadata": {},
   "outputs": [
    {
     "data": {
      "text/plain": [
       "(<matplotlib.collections.PathCollection at 0x158542ce850>,\n",
       " Text(0.5, 0, 'Disorder Protein'),\n",
       " Text(0, 0.5, 'predictor'))"
      ]
     },
     "execution_count": 187,
     "metadata": {},
     "output_type": "execute_result"
    },
    {
     "data": {
      "image/png": "[encoded data removed]",
      "text/plain": [
       "<Figure size 432x288 with 1 Axes>"
      ]
     },
     "metadata": {
      "needs_background": "light"
     },
     "output_type": "display_data"
    }
   ],
   "source": [
    "plt.scatter(data2[\"DisProt\"], data2[\"Predictor\"], c=\"Red\"), plt.xlabel(\"Disorder Protein\"), plt.ylabel(\"predictor\")"
   ]
  },
  {
   "cell_type": "code",
   "execution_count": 188,
   "id": "d29667a4-97d8-4f88-9b82-067275b2c39a",
   "metadata": {},
   "outputs": [
    {
     "data": {
      "text/plain": [
       "<AxesSubplot:>"
      ]
     },
     "execution_count": 188,
     "metadata": {},
     "output_type": "execute_result"
    },
    {
     "data": {
      "image/png": "[encoded data removed]",
      "text/plain": [
       "<Figure size 432x288 with 1 Axes>"
      ]
     },
     "metadata": {
      "needs_background": "light"
     },
     "output_type": "display_data"
    }
   ],
   "source": [
    "data2.boxplot ()"
   ]
  },
  {
   "cell_type": "code",
   "execution_count": 189,
   "id": "595a8e0f-f068-4904-991a-3418bb9ea986",
   "metadata": {},
   "outputs": [
    {
     "data": {
      "text/html": [
       "<div>\n",
       "<style scoped>\n",
       "    .dataframe tbody tr th:only-of-type {\n",
       "        vertical-align: middle;\n",
       "    }\n",
       "\n",
       "    .dataframe tbody tr th {\n",
       "        vertical-align: top;\n",
       "    }\n",
       "\n",
       "    .dataframe thead th {\n",
       "        text-align: right;\n",
       "    }\n",
       "</style>\n",
       "<table border=\"1\" class=\"dataframe\">\n",
       "  <thead>\n",
       "    <tr style=\"text-align: right;\">\n",
       "      <th></th>\n",
       "      <th>DisProt</th>\n",
       "      <th>Predictor</th>\n",
       "    </tr>\n",
       "  </thead>\n",
       "  <tbody>\n",
       "    <tr>\n",
       "      <th>count</th>\n",
       "      <td>642.000000</td>\n",
       "      <td>642.000000</td>\n",
       "    </tr>\n",
       "    <tr>\n",
       "      <th>mean</th>\n",
       "      <td>0.258486</td>\n",
       "      <td>0.506048</td>\n",
       "    </tr>\n",
       "    <tr>\n",
       "      <th>std</th>\n",
       "      <td>0.273655</td>\n",
       "      <td>0.243792</td>\n",
       "    </tr>\n",
       "    <tr>\n",
       "      <th>min</th>\n",
       "      <td>0.008000</td>\n",
       "      <td>0.043000</td>\n",
       "    </tr>\n",
       "    <tr>\n",
       "      <th>25%</th>\n",
       "      <td>0.069250</td>\n",
       "      <td>0.308250</td>\n",
       "    </tr>\n",
       "    <tr>\n",
       "      <th>50%</th>\n",
       "      <td>0.162000</td>\n",
       "      <td>0.480500</td>\n",
       "    </tr>\n",
       "    <tr>\n",
       "      <th>75%</th>\n",
       "      <td>0.321250</td>\n",
       "      <td>0.679250</td>\n",
       "    </tr>\n",
       "    <tr>\n",
       "      <th>max</th>\n",
       "      <td>1.000000</td>\n",
       "      <td>1.000000</td>\n",
       "    </tr>\n",
       "  </tbody>\n",
       "</table>\n",
       "</div>"
      ],
      "text/plain": [
       "          DisProt   Predictor\n",
       "count  642.000000  642.000000\n",
       "mean     0.258486    0.506048\n",
       "std      0.273655    0.243792\n",
       "min      0.008000    0.043000\n",
       "25%      0.069250    0.308250\n",
       "50%      0.162000    0.480500\n",
       "75%      0.321250    0.679250\n",
       "max      1.000000    1.000000"
      ]
     },
     "execution_count": 189,
     "metadata": {},
     "output_type": "execute_result"
    }
   ],
   "source": [
    "data2.describe ()"
   ]
  },
  {
   "cell_type": "code",
   "execution_count": 195,
   "id": "b58a7a25-670f-4bb2-9d4b-b6d517007ef8",
   "metadata": {},
   "outputs": [
    {
     "data": {
      "text/plain": [
       "(<matplotlib.collections.PathCollection at 0x158543b5e50>,\n",
       " Text(0.5, 0, 'Disorder Protein'),\n",
       " Text(0, 0.5, 'predictor'))"
      ]
     },
     "execution_count": 195,
     "metadata": {},
     "output_type": "execute_result"
    },
    {
     "data": {
      "image/png": "[encoded data removed]",
      "text/plain": [
       "<Figure size 432x288 with 1 Axes>"
      ]
     },
     "metadata": {
      "needs_background": "light"
     },
     "output_type": "display_data"
    }
   ],
   "source": [
    "# save a plot\n",
    "\n",
    "myplot = data2.boxplot ()\n",
    "myplot.clear ()\n",
    "\n",
    "\n",
    "plt.scatter(data2[\"DisProt\"], data2[\"Predictor\"], c=\"Red\"), plt.xlabel(\"Disorder Protein\"), plt.ylabel(\"predictor\")"
   ]
  }
 ],
 "metadata": {
  "kernelspec": {
   "display_name": "Python 3",
   "language": "python",
   "name": "python3"
  },
  "language_info": {
   "codemirror_mode": {
    "name": "ipython",
    "version": 3
   },
   "file_extension": ".py",
   "mimetype": "text/x-python",
   "name": "python",
   "nbconvert_exporter": "python",
   "pygments_lexer": "ipython3",
   "version": "3.8.8"
  }
 },
 "nbformat": 4,
 "nbformat_minor": 5
}
